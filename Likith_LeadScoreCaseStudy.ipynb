{
 "cells": [
  {
   "cell_type": "markdown",
   "id": "fc3e335c",
   "metadata": {},
   "source": [
    "### Goal of the case study"
   ]
  },
  {
   "cell_type": "markdown",
   "id": "721ac7a7",
   "metadata": {},
   "source": [
    "* The goal of the case study is to build a logistic regression model to predict lead score between 0 to 100. High lead score means conversion or 'hot' and low means no conversion or 'cold'"
   ]
  },
  {
   "cell_type": "code",
   "execution_count": 1,
   "id": "8765c14d",
   "metadata": {},
   "outputs": [],
   "source": [
    "import numpy as np\n",
    "import pandas as pd\n",
    "import matplotlib.pyplot as plt\n",
    "import seaborn as sns\n",
    "import matplotlib.pyplot as plt\n",
    "\n",
    "\n",
    "import warnings\n",
    "warnings.filterwarnings('ignore')\n",
    "\n",
    "import statsmodels.api as sm\n",
    "from sklearn.metrics import precision_score, recall_score, confusion_matrix, accuracy_score, r2_score, plot_roc_curve\n",
    "from sklearn.feature_selection import RFE\n",
    "from sklearn.preprocessing import MinMaxScaler\n",
    "from sklearn.linear_model import LogisticRegression\n",
    "from sklearn.model_selection import train_test_split\n",
    "from statsmodels.stats.outliers_influence import variance_inflation_factor"
   ]
  },
  {
   "cell_type": "markdown",
   "id": "b459aeac",
   "metadata": {},
   "source": [
    "### Read the leads data in .csv format as pandas dataframe"
   ]
  },
  {
   "cell_type": "code",
   "execution_count": 2,
   "id": "aa9f9fdf",
   "metadata": {},
   "outputs": [],
   "source": [
    "leaddf = pd.read_csv(r\"C:\\Users\\riduv\\Downloads\\Leads.csv\")"
   ]
  },
  {
   "cell_type": "markdown",
   "id": "5ff7ffc6",
   "metadata": {},
   "source": [
    "### Visualize rows and columns"
   ]
  },
  {
   "cell_type": "code",
   "execution_count": 3,
   "id": "ff35332b",
   "metadata": {},
   "outputs": [
    {
     "data": {
      "text/html": [
       "<div>\n",
       "<style scoped>\n",
       "    .dataframe tbody tr th:only-of-type {\n",
       "        vertical-align: middle;\n",
       "    }\n",
       "\n",
       "    .dataframe tbody tr th {\n",
       "        vertical-align: top;\n",
       "    }\n",
       "\n",
       "    .dataframe thead th {\n",
       "        text-align: right;\n",
       "    }\n",
       "</style>\n",
       "<table border=\"1\" class=\"dataframe\">\n",
       "  <thead>\n",
       "    <tr style=\"text-align: right;\">\n",
       "      <th></th>\n",
       "      <th>Prospect ID</th>\n",
       "      <th>Lead Number</th>\n",
       "      <th>Lead Origin</th>\n",
       "      <th>Lead Source</th>\n",
       "      <th>Do Not Email</th>\n",
       "      <th>Do Not Call</th>\n",
       "      <th>Converted</th>\n",
       "      <th>TotalVisits</th>\n",
       "      <th>Total Time Spent on Website</th>\n",
       "      <th>Page Views Per Visit</th>\n",
       "      <th>...</th>\n",
       "      <th>Get updates on DM Content</th>\n",
       "      <th>Lead Profile</th>\n",
       "      <th>City</th>\n",
       "      <th>Asymmetrique Activity Index</th>\n",
       "      <th>Asymmetrique Profile Index</th>\n",
       "      <th>Asymmetrique Activity Score</th>\n",
       "      <th>Asymmetrique Profile Score</th>\n",
       "      <th>I agree to pay the amount through cheque</th>\n",
       "      <th>A free copy of Mastering The Interview</th>\n",
       "      <th>Last Notable Activity</th>\n",
       "    </tr>\n",
       "  </thead>\n",
       "  <tbody>\n",
       "    <tr>\n",
       "      <th>0</th>\n",
       "      <td>7927b2df-8bba-4d29-b9a2-b6e0beafe620</td>\n",
       "      <td>660737</td>\n",
       "      <td>API</td>\n",
       "      <td>Olark Chat</td>\n",
       "      <td>No</td>\n",
       "      <td>No</td>\n",
       "      <td>0</td>\n",
       "      <td>0.0</td>\n",
       "      <td>0</td>\n",
       "      <td>0.0</td>\n",
       "      <td>...</td>\n",
       "      <td>No</td>\n",
       "      <td>Select</td>\n",
       "      <td>Select</td>\n",
       "      <td>02.Medium</td>\n",
       "      <td>02.Medium</td>\n",
       "      <td>15.0</td>\n",
       "      <td>15.0</td>\n",
       "      <td>No</td>\n",
       "      <td>No</td>\n",
       "      <td>Modified</td>\n",
       "    </tr>\n",
       "    <tr>\n",
       "      <th>1</th>\n",
       "      <td>2a272436-5132-4136-86fa-dcc88c88f482</td>\n",
       "      <td>660728</td>\n",
       "      <td>API</td>\n",
       "      <td>Organic Search</td>\n",
       "      <td>No</td>\n",
       "      <td>No</td>\n",
       "      <td>0</td>\n",
       "      <td>5.0</td>\n",
       "      <td>674</td>\n",
       "      <td>2.5</td>\n",
       "      <td>...</td>\n",
       "      <td>No</td>\n",
       "      <td>Select</td>\n",
       "      <td>Select</td>\n",
       "      <td>02.Medium</td>\n",
       "      <td>02.Medium</td>\n",
       "      <td>15.0</td>\n",
       "      <td>15.0</td>\n",
       "      <td>No</td>\n",
       "      <td>No</td>\n",
       "      <td>Email Opened</td>\n",
       "    </tr>\n",
       "    <tr>\n",
       "      <th>2</th>\n",
       "      <td>8cc8c611-a219-4f35-ad23-fdfd2656bd8a</td>\n",
       "      <td>660727</td>\n",
       "      <td>Landing Page Submission</td>\n",
       "      <td>Direct Traffic</td>\n",
       "      <td>No</td>\n",
       "      <td>No</td>\n",
       "      <td>1</td>\n",
       "      <td>2.0</td>\n",
       "      <td>1532</td>\n",
       "      <td>2.0</td>\n",
       "      <td>...</td>\n",
       "      <td>No</td>\n",
       "      <td>Potential Lead</td>\n",
       "      <td>Mumbai</td>\n",
       "      <td>02.Medium</td>\n",
       "      <td>01.High</td>\n",
       "      <td>14.0</td>\n",
       "      <td>20.0</td>\n",
       "      <td>No</td>\n",
       "      <td>Yes</td>\n",
       "      <td>Email Opened</td>\n",
       "    </tr>\n",
       "  </tbody>\n",
       "</table>\n",
       "<p>3 rows × 37 columns</p>\n",
       "</div>"
      ],
      "text/plain": [
       "                            Prospect ID  Lead Number              Lead Origin  \\\n",
       "0  7927b2df-8bba-4d29-b9a2-b6e0beafe620       660737                      API   \n",
       "1  2a272436-5132-4136-86fa-dcc88c88f482       660728                      API   \n",
       "2  8cc8c611-a219-4f35-ad23-fdfd2656bd8a       660727  Landing Page Submission   \n",
       "\n",
       "      Lead Source Do Not Email Do Not Call  Converted  TotalVisits  \\\n",
       "0      Olark Chat           No          No          0          0.0   \n",
       "1  Organic Search           No          No          0          5.0   \n",
       "2  Direct Traffic           No          No          1          2.0   \n",
       "\n",
       "   Total Time Spent on Website  Page Views Per Visit  ...  \\\n",
       "0                            0                   0.0  ...   \n",
       "1                          674                   2.5  ...   \n",
       "2                         1532                   2.0  ...   \n",
       "\n",
       "  Get updates on DM Content    Lead Profile    City  \\\n",
       "0                        No          Select  Select   \n",
       "1                        No          Select  Select   \n",
       "2                        No  Potential Lead  Mumbai   \n",
       "\n",
       "  Asymmetrique Activity Index Asymmetrique Profile Index  \\\n",
       "0                   02.Medium                  02.Medium   \n",
       "1                   02.Medium                  02.Medium   \n",
       "2                   02.Medium                    01.High   \n",
       "\n",
       "  Asymmetrique Activity Score Asymmetrique Profile Score  \\\n",
       "0                        15.0                       15.0   \n",
       "1                        15.0                       15.0   \n",
       "2                        14.0                       20.0   \n",
       "\n",
       "  I agree to pay the amount through cheque  \\\n",
       "0                                       No   \n",
       "1                                       No   \n",
       "2                                       No   \n",
       "\n",
       "  A free copy of Mastering The Interview Last Notable Activity  \n",
       "0                                     No              Modified  \n",
       "1                                     No          Email Opened  \n",
       "2                                    Yes          Email Opened  \n",
       "\n",
       "[3 rows x 37 columns]"
      ]
     },
     "execution_count": 3,
     "metadata": {},
     "output_type": "execute_result"
    }
   ],
   "source": [
    "leaddf.head(3)"
   ]
  },
  {
   "cell_type": "markdown",
   "id": "f029ff08",
   "metadata": {},
   "source": [
    "### Check initial shape"
   ]
  },
  {
   "cell_type": "code",
   "execution_count": 4,
   "id": "b73be50f",
   "metadata": {},
   "outputs": [
    {
     "data": {
      "text/plain": [
       "(9240, 37)"
      ]
     },
     "execution_count": 4,
     "metadata": {},
     "output_type": "execute_result"
    }
   ],
   "source": [
    "leaddf.shape"
   ]
  },
  {
   "cell_type": "markdown",
   "id": "5a528bcd",
   "metadata": {},
   "source": [
    "### Data cleaning "
   ]
  },
  {
   "cell_type": "markdown",
   "id": "e9a9d387",
   "metadata": {},
   "source": [
    "### check empty column names"
   ]
  },
  {
   "cell_type": "code",
   "execution_count": 5,
   "id": "609d746e",
   "metadata": {},
   "outputs": [
    {
     "data": {
      "text/plain": [
       "0"
      ]
     },
     "execution_count": 5,
     "metadata": {},
     "output_type": "execute_result"
    }
   ],
   "source": [
    "leaddf.columns.isnull().sum()"
   ]
  },
  {
   "cell_type": "markdown",
   "id": "6d1d7151",
   "metadata": {},
   "source": [
    "**Impression:**\n",
    "no empty columns names were identified"
   ]
  },
  {
   "cell_type": "markdown",
   "id": "1d692934",
   "metadata": {},
   "source": [
    "### Check duplicated rows and columns"
   ]
  },
  {
   "cell_type": "code",
   "execution_count": 6,
   "id": "7891766c",
   "metadata": {},
   "outputs": [
    {
     "data": {
      "text/plain": [
       "(0, 37)"
      ]
     },
     "execution_count": 6,
     "metadata": {},
     "output_type": "execute_result"
    }
   ],
   "source": [
    "leaddf[leaddf.duplicated()].shape"
   ]
  },
  {
   "cell_type": "code",
   "execution_count": 7,
   "id": "0e691fe5",
   "metadata": {},
   "outputs": [
    {
     "data": {
      "text/plain": [
       "(9240, 0)"
      ]
     },
     "execution_count": 7,
     "metadata": {},
     "output_type": "execute_result"
    }
   ],
   "source": [
    "leaddf.loc[:,leaddf.columns.duplicated()].shape"
   ]
  },
  {
   "cell_type": "markdown",
   "id": "3425b223",
   "metadata": {},
   "source": [
    "**Impression:**\n",
    "No duplicated rows were identified"
   ]
  },
  {
   "cell_type": "markdown",
   "id": "79b84021",
   "metadata": {},
   "source": [
    "### Check datatype and properties of columns"
   ]
  },
  {
   "cell_type": "code",
   "execution_count": 8,
   "id": "625b3bd6",
   "metadata": {
    "scrolled": false
   },
   "outputs": [
    {
     "name": "stdout",
     "output_type": "stream",
     "text": [
      "<class 'pandas.core.frame.DataFrame'>\n",
      "RangeIndex: 9240 entries, 0 to 9239\n",
      "Data columns (total 37 columns):\n",
      " #   Column                                         Non-Null Count  Dtype  \n",
      "---  ------                                         --------------  -----  \n",
      " 0   Prospect ID                                    9240 non-null   object \n",
      " 1   Lead Number                                    9240 non-null   int64  \n",
      " 2   Lead Origin                                    9240 non-null   object \n",
      " 3   Lead Source                                    9204 non-null   object \n",
      " 4   Do Not Email                                   9240 non-null   object \n",
      " 5   Do Not Call                                    9240 non-null   object \n",
      " 6   Converted                                      9240 non-null   int64  \n",
      " 7   TotalVisits                                    9103 non-null   float64\n",
      " 8   Total Time Spent on Website                    9240 non-null   int64  \n",
      " 9   Page Views Per Visit                           9103 non-null   float64\n",
      " 10  Last Activity                                  9137 non-null   object \n",
      " 11  Country                                        6779 non-null   object \n",
      " 12  Specialization                                 7802 non-null   object \n",
      " 13  How did you hear about X Education             7033 non-null   object \n",
      " 14  What is your current occupation                6550 non-null   object \n",
      " 15  What matters most to you in choosing a course  6531 non-null   object \n",
      " 16  Search                                         9240 non-null   object \n",
      " 17  Magazine                                       9240 non-null   object \n",
      " 18  Newspaper Article                              9240 non-null   object \n",
      " 19  X Education Forums                             9240 non-null   object \n",
      " 20  Newspaper                                      9240 non-null   object \n",
      " 21  Digital Advertisement                          9240 non-null   object \n",
      " 22  Through Recommendations                        9240 non-null   object \n",
      " 23  Receive More Updates About Our Courses         9240 non-null   object \n",
      " 24  Tags                                           5887 non-null   object \n",
      " 25  Lead Quality                                   4473 non-null   object \n",
      " 26  Update me on Supply Chain Content              9240 non-null   object \n",
      " 27  Get updates on DM Content                      9240 non-null   object \n",
      " 28  Lead Profile                                   6531 non-null   object \n",
      " 29  City                                           7820 non-null   object \n",
      " 30  Asymmetrique Activity Index                    5022 non-null   object \n",
      " 31  Asymmetrique Profile Index                     5022 non-null   object \n",
      " 32  Asymmetrique Activity Score                    5022 non-null   float64\n",
      " 33  Asymmetrique Profile Score                     5022 non-null   float64\n",
      " 34  I agree to pay the amount through cheque       9240 non-null   object \n",
      " 35  A free copy of Mastering The Interview         9240 non-null   object \n",
      " 36  Last Notable Activity                          9240 non-null   object \n",
      "dtypes: float64(4), int64(3), object(30)\n",
      "memory usage: 2.6+ MB\n"
     ]
    }
   ],
   "source": [
    "leaddf.info()"
   ]
  },
  {
   "cell_type": "code",
   "execution_count": 9,
   "id": "9cbb9e7f",
   "metadata": {},
   "outputs": [
    {
     "data": {
      "text/html": [
       "<div>\n",
       "<style scoped>\n",
       "    .dataframe tbody tr th:only-of-type {\n",
       "        vertical-align: middle;\n",
       "    }\n",
       "\n",
       "    .dataframe tbody tr th {\n",
       "        vertical-align: top;\n",
       "    }\n",
       "\n",
       "    .dataframe thead th {\n",
       "        text-align: right;\n",
       "    }\n",
       "</style>\n",
       "<table border=\"1\" class=\"dataframe\">\n",
       "  <thead>\n",
       "    <tr style=\"text-align: right;\">\n",
       "      <th></th>\n",
       "      <th>Lead Number</th>\n",
       "      <th>Converted</th>\n",
       "      <th>TotalVisits</th>\n",
       "      <th>Total Time Spent on Website</th>\n",
       "      <th>Page Views Per Visit</th>\n",
       "      <th>Asymmetrique Activity Score</th>\n",
       "      <th>Asymmetrique Profile Score</th>\n",
       "    </tr>\n",
       "  </thead>\n",
       "  <tbody>\n",
       "    <tr>\n",
       "      <th>count</th>\n",
       "      <td>9240.000000</td>\n",
       "      <td>9240.000000</td>\n",
       "      <td>9103.000000</td>\n",
       "      <td>9240.000000</td>\n",
       "      <td>9103.000000</td>\n",
       "      <td>5022.000000</td>\n",
       "      <td>5022.000000</td>\n",
       "    </tr>\n",
       "    <tr>\n",
       "      <th>mean</th>\n",
       "      <td>617188.435606</td>\n",
       "      <td>0.385390</td>\n",
       "      <td>3.445238</td>\n",
       "      <td>487.698268</td>\n",
       "      <td>2.362820</td>\n",
       "      <td>14.306252</td>\n",
       "      <td>16.344883</td>\n",
       "    </tr>\n",
       "    <tr>\n",
       "      <th>std</th>\n",
       "      <td>23405.995698</td>\n",
       "      <td>0.486714</td>\n",
       "      <td>4.854853</td>\n",
       "      <td>548.021466</td>\n",
       "      <td>2.161418</td>\n",
       "      <td>1.386694</td>\n",
       "      <td>1.811395</td>\n",
       "    </tr>\n",
       "    <tr>\n",
       "      <th>min</th>\n",
       "      <td>579533.000000</td>\n",
       "      <td>0.000000</td>\n",
       "      <td>0.000000</td>\n",
       "      <td>0.000000</td>\n",
       "      <td>0.000000</td>\n",
       "      <td>7.000000</td>\n",
       "      <td>11.000000</td>\n",
       "    </tr>\n",
       "    <tr>\n",
       "      <th>25%</th>\n",
       "      <td>596484.500000</td>\n",
       "      <td>0.000000</td>\n",
       "      <td>1.000000</td>\n",
       "      <td>12.000000</td>\n",
       "      <td>1.000000</td>\n",
       "      <td>14.000000</td>\n",
       "      <td>15.000000</td>\n",
       "    </tr>\n",
       "    <tr>\n",
       "      <th>50%</th>\n",
       "      <td>615479.000000</td>\n",
       "      <td>0.000000</td>\n",
       "      <td>3.000000</td>\n",
       "      <td>248.000000</td>\n",
       "      <td>2.000000</td>\n",
       "      <td>14.000000</td>\n",
       "      <td>16.000000</td>\n",
       "    </tr>\n",
       "    <tr>\n",
       "      <th>75%</th>\n",
       "      <td>637387.250000</td>\n",
       "      <td>1.000000</td>\n",
       "      <td>5.000000</td>\n",
       "      <td>936.000000</td>\n",
       "      <td>3.000000</td>\n",
       "      <td>15.000000</td>\n",
       "      <td>18.000000</td>\n",
       "    </tr>\n",
       "    <tr>\n",
       "      <th>max</th>\n",
       "      <td>660737.000000</td>\n",
       "      <td>1.000000</td>\n",
       "      <td>251.000000</td>\n",
       "      <td>2272.000000</td>\n",
       "      <td>55.000000</td>\n",
       "      <td>18.000000</td>\n",
       "      <td>20.000000</td>\n",
       "    </tr>\n",
       "  </tbody>\n",
       "</table>\n",
       "</div>"
      ],
      "text/plain": [
       "         Lead Number    Converted  TotalVisits  Total Time Spent on Website  \\\n",
       "count    9240.000000  9240.000000  9103.000000                  9240.000000   \n",
       "mean   617188.435606     0.385390     3.445238                   487.698268   \n",
       "std     23405.995698     0.486714     4.854853                   548.021466   \n",
       "min    579533.000000     0.000000     0.000000                     0.000000   \n",
       "25%    596484.500000     0.000000     1.000000                    12.000000   \n",
       "50%    615479.000000     0.000000     3.000000                   248.000000   \n",
       "75%    637387.250000     1.000000     5.000000                   936.000000   \n",
       "max    660737.000000     1.000000   251.000000                  2272.000000   \n",
       "\n",
       "       Page Views Per Visit  Asymmetrique Activity Score  \\\n",
       "count           9103.000000                  5022.000000   \n",
       "mean               2.362820                    14.306252   \n",
       "std                2.161418                     1.386694   \n",
       "min                0.000000                     7.000000   \n",
       "25%                1.000000                    14.000000   \n",
       "50%                2.000000                    14.000000   \n",
       "75%                3.000000                    15.000000   \n",
       "max               55.000000                    18.000000   \n",
       "\n",
       "       Asymmetrique Profile Score  \n",
       "count                 5022.000000  \n",
       "mean                    16.344883  \n",
       "std                      1.811395  \n",
       "min                     11.000000  \n",
       "25%                     15.000000  \n",
       "50%                     16.000000  \n",
       "75%                     18.000000  \n",
       "max                     20.000000  "
      ]
     },
     "execution_count": 9,
     "metadata": {},
     "output_type": "execute_result"
    }
   ],
   "source": [
    "leaddf.describe()"
   ]
  },
  {
   "cell_type": "markdown",
   "id": "15f244ad",
   "metadata": {},
   "source": [
    "### Check and fill/remove empty values rows/columns \n",
    "\n",
    "Calculate percentage of null values in each column of the two dataframe and remove those columns with greater than 40 percentage of null values\n"
   ]
  },
  {
   "cell_type": "code",
   "execution_count": 10,
   "id": "8ebed8da",
   "metadata": {},
   "outputs": [],
   "source": [
    "## replacing the word 'select' with nan values. so, null colums can be further removed\n",
    "\n",
    "leaddf = leaddf.replace('Select', np.nan)"
   ]
  },
  {
   "cell_type": "code",
   "execution_count": 11,
   "id": "702aa510",
   "metadata": {
    "scrolled": false
   },
   "outputs": [
    {
     "name": "stdout",
     "output_type": "stream",
     "text": [
      "Current application df columns with greater than 45% of null values:  7\n"
     ]
    }
   ],
   "source": [
    "find_col_leaddf = (leaddf.isnull().sum()/leaddf.shape[0])*100\n",
    "nan_cols_leaddf = find_col_leaddf[(find_col_leaddf != 0) & (find_col_leaddf >= 45)].index\n",
    "\n",
    "print(\"Current application df columns with greater than 45% of null values: \", nan_cols_leaddf.shape[0])"
   ]
  },
  {
   "cell_type": "markdown",
   "id": "76ad2cdc",
   "metadata": {},
   "source": [
    "#### Columns with percentage null values"
   ]
  },
  {
   "cell_type": "code",
   "execution_count": 12,
   "id": "c2be9042",
   "metadata": {},
   "outputs": [
    {
     "data": {
      "text/plain": [
       "Prospect ID                                       0.000000\n",
       "Lead Number                                       0.000000\n",
       "Lead Origin                                       0.000000\n",
       "Lead Source                                       0.389610\n",
       "Do Not Email                                      0.000000\n",
       "Do Not Call                                       0.000000\n",
       "Converted                                         0.000000\n",
       "TotalVisits                                       1.482684\n",
       "Total Time Spent on Website                       0.000000\n",
       "Page Views Per Visit                              1.482684\n",
       "Last Activity                                     1.114719\n",
       "Country                                          26.634199\n",
       "Specialization                                   36.580087\n",
       "How did you hear about X Education               78.463203\n",
       "What is your current occupation                  29.112554\n",
       "What matters most to you in choosing a course    29.318182\n",
       "Search                                            0.000000\n",
       "Magazine                                          0.000000\n",
       "Newspaper Article                                 0.000000\n",
       "X Education Forums                                0.000000\n",
       "Newspaper                                         0.000000\n",
       "Digital Advertisement                             0.000000\n",
       "Through Recommendations                           0.000000\n",
       "Receive More Updates About Our Courses            0.000000\n",
       "Tags                                             36.287879\n",
       "Lead Quality                                     51.590909\n",
       "Update me on Supply Chain Content                 0.000000\n",
       "Get updates on DM Content                         0.000000\n",
       "Lead Profile                                     74.188312\n",
       "City                                             39.707792\n",
       "Asymmetrique Activity Index                      45.649351\n",
       "Asymmetrique Profile Index                       45.649351\n",
       "Asymmetrique Activity Score                      45.649351\n",
       "Asymmetrique Profile Score                       45.649351\n",
       "I agree to pay the amount through cheque          0.000000\n",
       "A free copy of Mastering The Interview            0.000000\n",
       "Last Notable Activity                             0.000000\n",
       "dtype: float64"
      ]
     },
     "execution_count": 12,
     "metadata": {},
     "output_type": "execute_result"
    }
   ],
   "source": [
    "find_col_leaddf"
   ]
  },
  {
   "cell_type": "markdown",
   "id": "ccb80618",
   "metadata": {},
   "source": [
    "#### Columns with greater then 40% null values"
   ]
  },
  {
   "cell_type": "code",
   "execution_count": 13,
   "id": "abfd1f80",
   "metadata": {},
   "outputs": [
    {
     "data": {
      "text/plain": [
       "Index(['How did you hear about X Education', 'Lead Quality', 'Lead Profile',\n",
       "       'Asymmetrique Activity Index', 'Asymmetrique Profile Index',\n",
       "       'Asymmetrique Activity Score', 'Asymmetrique Profile Score'],\n",
       "      dtype='object')"
      ]
     },
     "execution_count": 13,
     "metadata": {},
     "output_type": "execute_result"
    }
   ],
   "source": [
    "nan_cols_leaddf"
   ]
  },
  {
   "cell_type": "markdown",
   "id": "1e5e294c",
   "metadata": {},
   "source": [
    "### Drop columns"
   ]
  },
  {
   "cell_type": "code",
   "execution_count": 14,
   "id": "e04180a0",
   "metadata": {},
   "outputs": [],
   "source": [
    "leaddf.drop(['Prospect ID', 'Lead Number'], axis=1, inplace=True)"
   ]
  },
  {
   "cell_type": "code",
   "execution_count": 15,
   "id": "b44d1802",
   "metadata": {},
   "outputs": [],
   "source": [
    "leaddf.drop(nan_cols_leaddf, axis=1, inplace=True)"
   ]
  },
  {
   "cell_type": "markdown",
   "id": "46ba7823",
   "metadata": {},
   "source": [
    "**Impression**: removed 'Prospect ID', 'Lead Number' as these are identification numbers with no information for model. 'How did you hear about X Education', 'Lead Profile' 'Lead Quality', 'Asymmetrique Activity Index', 'Asymmetrique Profile Index', 'Asymmetrique Activity Score',  'Asymmetrique Profile Score' columns where dropped with greater than 45% null values."
   ]
  },
  {
   "cell_type": "code",
   "execution_count": 16,
   "id": "1060af95",
   "metadata": {},
   "outputs": [
    {
     "data": {
      "text/plain": [
       "Lead Origin                                       0.000000\n",
       "Lead Source                                       0.389610\n",
       "Do Not Email                                      0.000000\n",
       "Do Not Call                                       0.000000\n",
       "Converted                                         0.000000\n",
       "TotalVisits                                       1.482684\n",
       "Total Time Spent on Website                       0.000000\n",
       "Page Views Per Visit                              1.482684\n",
       "Last Activity                                     1.114719\n",
       "Country                                          26.634199\n",
       "Specialization                                   36.580087\n",
       "What is your current occupation                  29.112554\n",
       "What matters most to you in choosing a course    29.318182\n",
       "Search                                            0.000000\n",
       "Magazine                                          0.000000\n",
       "Newspaper Article                                 0.000000\n",
       "X Education Forums                                0.000000\n",
       "Newspaper                                         0.000000\n",
       "Digital Advertisement                             0.000000\n",
       "Through Recommendations                           0.000000\n",
       "Receive More Updates About Our Courses            0.000000\n",
       "Tags                                             36.287879\n",
       "Update me on Supply Chain Content                 0.000000\n",
       "Get updates on DM Content                         0.000000\n",
       "City                                             39.707792\n",
       "I agree to pay the amount through cheque          0.000000\n",
       "A free copy of Mastering The Interview            0.000000\n",
       "Last Notable Activity                             0.000000\n",
       "dtype: float64"
      ]
     },
     "execution_count": 16,
     "metadata": {},
     "output_type": "execute_result"
    }
   ],
   "source": [
    "## set of columns after removal with percentage of null values\n",
    "\n",
    "(leaddf.isnull().sum()/leaddf.shape[0])*100"
   ]
  },
  {
   "cell_type": "markdown",
   "id": "af5f14ef",
   "metadata": {},
   "source": [
    "### Check final shape of dataframe"
   ]
  },
  {
   "cell_type": "code",
   "execution_count": 17,
   "id": "a111ca85",
   "metadata": {},
   "outputs": [
    {
     "data": {
      "text/plain": [
       "(9240, 28)"
      ]
     },
     "execution_count": 17,
     "metadata": {},
     "output_type": "execute_result"
    }
   ],
   "source": [
    "leaddf.shape"
   ]
  },
  {
   "cell_type": "markdown",
   "id": "bf47abff",
   "metadata": {},
   "source": [
    "### Numerical and Categorical columns"
   ]
  },
  {
   "cell_type": "markdown",
   "id": "e0858516",
   "metadata": {},
   "source": [
    "#### Categorical columns"
   ]
  },
  {
   "cell_type": "code",
   "execution_count": 18,
   "id": "1bbc7ec9",
   "metadata": {},
   "outputs": [
    {
     "data": {
      "text/plain": [
       "Index(['A free copy of Mastering The Interview', 'City', 'Country',\n",
       "       'Digital Advertisement', 'Do Not Call', 'Do Not Email',\n",
       "       'Get updates on DM Content', 'I agree to pay the amount through cheque',\n",
       "       'Last Activity', 'Last Notable Activity', 'Lead Origin', 'Lead Source',\n",
       "       'Magazine', 'Newspaper', 'Newspaper Article',\n",
       "       'Receive More Updates About Our Courses', 'Search', 'Specialization',\n",
       "       'Tags', 'Through Recommendations', 'Update me on Supply Chain Content',\n",
       "       'What is your current occupation',\n",
       "       'What matters most to you in choosing a course', 'X Education Forums'],\n",
       "      dtype='object')"
      ]
     },
     "execution_count": 18,
     "metadata": {},
     "output_type": "execute_result"
    }
   ],
   "source": [
    "leaddf[leaddf.columns.difference(leaddf.describe().columns)].columns"
   ]
  },
  {
   "cell_type": "markdown",
   "id": "d855be82",
   "metadata": {},
   "source": [
    "#### Numerical columns"
   ]
  },
  {
   "cell_type": "code",
   "execution_count": 19,
   "id": "c42f0e7b",
   "metadata": {},
   "outputs": [
    {
     "data": {
      "text/plain": [
       "Index(['Converted', 'TotalVisits', 'Total Time Spent on Website',\n",
       "       'Page Views Per Visit'],\n",
       "      dtype='object')"
      ]
     },
     "execution_count": 19,
     "metadata": {},
     "output_type": "execute_result"
    }
   ],
   "source": [
    "leaddf.describe().columns"
   ]
  },
  {
   "cell_type": "markdown",
   "id": "44e3cdb9",
   "metadata": {},
   "source": [
    "### Handling outliers in numerical columns"
   ]
  },
  {
   "cell_type": "markdown",
   "id": "01c62950",
   "metadata": {},
   "source": [
    "Ploted are some of the columns with outliers"
   ]
  },
  {
   "cell_type": "code",
   "execution_count": 20,
   "id": "10b03d71",
   "metadata": {},
   "outputs": [
    {
     "data": {
      "image/png": "[encoded data removed]",
      "text/plain": [
       "<Figure size 720x144 with 1 Axes>"
      ]
     },
     "metadata": {
      "needs_background": "light"
     },
     "output_type": "display_data"
    }
   ],
   "source": [
    "plt.figure(figsize=(10,2))\n",
    "sns.boxplot(leaddf[\"TotalVisits\"])\n",
    "plt.show()"
   ]
  },
  {
   "cell_type": "code",
   "execution_count": 21,
   "id": "bcd40fc7",
   "metadata": {},
   "outputs": [
    {
     "data": {
      "image/png": "[encoded data removed]",
      "text/plain": [
       "<Figure size 432x288 with 1 Axes>"
      ]
     },
     "metadata": {
      "needs_background": "light"
     },
     "output_type": "display_data"
    }
   ],
   "source": [
    "## total visits outlier removal\n",
    "\n",
    "Q3 = leaddf.TotalVisits.quantile(0.99)\n",
    "leaddf = leaddf[(leaddf.TotalVisits <= Q3)]\n",
    "Q1 = leaddf.TotalVisits.quantile(0.01)\n",
    "leaddf = leaddf[(leaddf.TotalVisits >= Q1)]\n",
    "sns.boxplot(y=leaddf['TotalVisits'])\n",
    "plt.show()"
   ]
  },
  {
   "cell_type": "code",
   "execution_count": 22,
   "id": "e351b85c",
   "metadata": {},
   "outputs": [
    {
     "data": {
      "image/png": "[encoded data removed]",
      "text/plain": [
       "<Figure size 720x144 with 1 Axes>"
      ]
     },
     "metadata": {
      "needs_background": "light"
     },
     "output_type": "display_data"
    }
   ],
   "source": [
    "plt.figure(figsize=(10,2))\n",
    "sns.boxplot(leaddf[\"Total Time Spent on Website\"])\n",
    "plt.show()"
   ]
  },
  {
   "cell_type": "code",
   "execution_count": 23,
   "id": "f34f8b3b",
   "metadata": {},
   "outputs": [
    {
     "data": {
      "image/png": "[encoded data removed]",
      "text/plain": [
       "<Figure size 720x144 with 1 Axes>"
      ]
     },
     "metadata": {
      "needs_background": "light"
     },
     "output_type": "display_data"
    }
   ],
   "source": [
    "plt.figure(figsize=(10,2))\n",
    "sns.boxplot(leaddf[\"Page Views Per Visit\"])\n",
    "plt.show()"
   ]
  },
  {
   "cell_type": "code",
   "execution_count": 24,
   "id": "7047e06e",
   "metadata": {},
   "outputs": [
    {
     "data": {
      "image/png": "[encoded data removed]",
      "text/plain": [
       "<Figure size 432x288 with 1 Axes>"
      ]
     },
     "metadata": {
      "needs_background": "light"
     },
     "output_type": "display_data"
    }
   ],
   "source": [
    "## Page Views Per Visit column outlier removal\n",
    "\n",
    "Q3 = leaddf[\"Page Views Per Visit\"].quantile(0.99)\n",
    "leaddf = leaddf[(leaddf[\"Page Views Per Visit\"] <= Q3)]\n",
    "Q1 = leaddf[\"Page Views Per Visit\"].quantile(0.01)\n",
    "leaddf = leaddf[(leaddf[\"Page Views Per Visit\"] >= Q1)]\n",
    "sns.boxplot(y=leaddf[\"Page Views Per Visit\"])\n",
    "plt.show()"
   ]
  },
  {
   "cell_type": "markdown",
   "id": "dbd8cd29",
   "metadata": {},
   "source": [
    "### Check correlations in numerical columns"
   ]
  },
  {
   "cell_type": "code",
   "execution_count": 25,
   "id": "24453f67",
   "metadata": {},
   "outputs": [
    {
     "data": {
      "image/png": "[encoded data removed]",
      "text/plain": [
       "<Figure size 432x288 with 2 Axes>"
      ]
     },
     "metadata": {
      "needs_background": "light"
     },
     "output_type": "display_data"
    }
   ],
   "source": [
    "sns.heatmap(leaddf.corr(), annot=True)\n",
    "plt.show()"
   ]
  },
  {
   "cell_type": "markdown",
   "id": "31439f32",
   "metadata": {},
   "source": [
    "### Checking data imbalance"
   ]
  },
  {
   "cell_type": "code",
   "execution_count": 26,
   "id": "3ba255f4",
   "metadata": {},
   "outputs": [
    {
     "data": {
      "text/plain": [
       "0    5558\n",
       "1    3395\n",
       "Name: Converted, dtype: int64"
      ]
     },
     "execution_count": 26,
     "metadata": {},
     "output_type": "execute_result"
    }
   ],
   "source": [
    "leaddf.Converted.value_counts()"
   ]
  },
  {
   "cell_type": "code",
   "execution_count": 27,
   "id": "338a09d2",
   "metadata": {
    "scrolled": true
   },
   "outputs": [
    {
     "data": {
      "image/png": "[encoded data removed]",
      "text/plain": [
       "<Figure size 432x288 with 1 Axes>"
      ]
     },
     "metadata": {
      "needs_background": "light"
     },
     "output_type": "display_data"
    }
   ],
   "source": [
    "leaddf.Converted.value_counts().plot.bar()\n",
    "plt.xlabel(\"Converted\")\n",
    "plt.ylabel(\"COUNTS\")\n",
    "plt.title(\"Data Imbalance\")\n",
    "plt.show()"
   ]
  },
  {
   "cell_type": "markdown",
   "id": "bdea4534",
   "metadata": {},
   "source": [
    "**Impression** \n",
    "* There is a slight data imbalance with 3346 rows of converted (1) and 5487 rows of non converted (0)."
   ]
  },
  {
   "cell_type": "markdown",
   "id": "dca95826",
   "metadata": {},
   "source": [
    "### Analysis of categorical features"
   ]
  },
  {
   "cell_type": "code",
   "execution_count": 28,
   "id": "764c99c9",
   "metadata": {},
   "outputs": [
    {
     "data": {
      "text/plain": [
       "Index(['A free copy of Mastering The Interview', 'City', 'Country',\n",
       "       'Digital Advertisement', 'Do Not Call', 'Do Not Email',\n",
       "       'Get updates on DM Content', 'I agree to pay the amount through cheque',\n",
       "       'Last Activity', 'Last Notable Activity', 'Lead Origin', 'Lead Source',\n",
       "       'Magazine', 'Newspaper', 'Newspaper Article',\n",
       "       'Receive More Updates About Our Courses', 'Search', 'Specialization',\n",
       "       'Tags', 'Through Recommendations', 'Update me on Supply Chain Content',\n",
       "       'What is your current occupation',\n",
       "       'What matters most to you in choosing a course', 'X Education Forums'],\n",
       "      dtype='object')"
      ]
     },
     "execution_count": 28,
     "metadata": {},
     "output_type": "execute_result"
    }
   ],
   "source": [
    "leaddf[leaddf.columns.difference(leaddf.describe().columns)].columns"
   ]
  },
  {
   "cell_type": "code",
   "execution_count": 29,
   "id": "c3ba8e64",
   "metadata": {},
   "outputs": [],
   "source": [
    "def Converted_or_not_percent(df, col):\n",
    "    tot_dict = {0:{},1:{}}\n",
    "    for i in df[\"Converted\"].unique():\n",
    "        nonan = df[col].unique()\n",
    "        for j in nonan[~pd.isnull(nonan)]:\n",
    "            perc = (df[(df[\"Converted\"]==i) & (df[col]==j)].shape[0]/df[df[col]==j].shape[0])*100\n",
    "            tot_dict[i][j] = perc\n",
    "    tot_dict[\"Not_converted\"],tot_dict[\"Converted\"] = tot_dict.pop(0),tot_dict.pop(1)\n",
    "    return tot_dict"
   ]
  },
  {
   "cell_type": "markdown",
   "id": "5babf628",
   "metadata": {},
   "source": [
    "#### Column 'Country'"
   ]
  },
  {
   "cell_type": "code",
   "execution_count": 30,
   "id": "f6b51b9e",
   "metadata": {},
   "outputs": [
    {
     "data": {
      "text/plain": [
       "India                   6347\n",
       "NaN                     2323\n",
       "United States             68\n",
       "United Arab Emirates      52\n",
       "Singapore                 24\n",
       "Saudi Arabia              21\n",
       "United Kingdom            15\n",
       "Australia                 13\n",
       "Qatar                     10\n",
       "Hong Kong                  7\n",
       "Bahrain                    7\n",
       "Oman                       6\n",
       "France                     6\n",
       "South Africa               4\n",
       "Kuwait                     4\n",
       "Germany                    4\n",
       "unknown                    4\n",
       "Nigeria                    4\n",
       "Canada                     4\n",
       "Sweden                     3\n",
       "China                      2\n",
       "Belgium                    2\n",
       "Asia/Pacific Region        2\n",
       "Uganda                     2\n",
       "Italy                      2\n",
       "Ghana                      2\n",
       "Bangladesh                 2\n",
       "Philippines                2\n",
       "Liberia                    1\n",
       "Vietnam                    1\n",
       "Denmark                    1\n",
       "Switzerland                1\n",
       "Russia                     1\n",
       "Netherlands                1\n",
       "Malaysia                   1\n",
       "Sri Lanka                  1\n",
       "Tanzania                   1\n",
       "Kenya                      1\n",
       "Indonesia                  1\n",
       "Name: Country, dtype: int64"
      ]
     },
     "execution_count": 30,
     "metadata": {},
     "output_type": "execute_result"
    }
   ],
   "source": [
    "leaddf['Country'].value_counts(dropna=False)"
   ]
  },
  {
   "cell_type": "code",
   "execution_count": 31,
   "id": "2d9e78c7",
   "metadata": {},
   "outputs": [],
   "source": [
    "## As observed majority of rows have india as city, so we can replace with 'India'\n",
    "\n",
    "leaddf['Country'] = leaddf['Country'].replace(np.nan,'India')"
   ]
  },
  {
   "cell_type": "code",
   "execution_count": 32,
   "id": "b65ec406",
   "metadata": {
    "scrolled": false
   },
   "outputs": [
    {
     "data": {
      "text/plain": [
       "India                   0.968390\n",
       "United States           0.007595\n",
       "United Arab Emirates    0.005808\n",
       "Singapore               0.002681\n",
       "Saudi Arabia            0.002346\n",
       "United Kingdom          0.001675\n",
       "Australia               0.001452\n",
       "Qatar                   0.001117\n",
       "Bahrain                 0.000782\n",
       "Hong Kong               0.000782\n",
       "Oman                    0.000670\n",
       "France                  0.000670\n",
       "Canada                  0.000447\n",
       "unknown                 0.000447\n",
       "South Africa            0.000447\n",
       "Germany                 0.000447\n",
       "Nigeria                 0.000447\n",
       "Kuwait                  0.000447\n",
       "Sweden                  0.000335\n",
       "China                   0.000223\n",
       "Bangladesh              0.000223\n",
       "Belgium                 0.000223\n",
       "Asia/Pacific Region     0.000223\n",
       "Uganda                  0.000223\n",
       "Philippines             0.000223\n",
       "Italy                   0.000223\n",
       "Ghana                   0.000223\n",
       "Liberia                 0.000112\n",
       "Vietnam                 0.000112\n",
       "Denmark                 0.000112\n",
       "Switzerland             0.000112\n",
       "Tanzania                0.000112\n",
       "Netherlands             0.000112\n",
       "Malaysia                0.000112\n",
       "Kenya                   0.000112\n",
       "Sri Lanka               0.000112\n",
       "Russia                  0.000112\n",
       "Indonesia               0.000112\n",
       "Name: Country, dtype: float64"
      ]
     },
     "execution_count": 32,
     "metadata": {},
     "output_type": "execute_result"
    }
   ],
   "source": [
    "leaddf['Country'].value_counts(dropna=False)/leaddf['Country'].shape[0]"
   ]
  },
  {
   "cell_type": "code",
   "execution_count": 33,
   "id": "f07519c2",
   "metadata": {},
   "outputs": [],
   "source": [
    "### we can drop the column as around 97% of the rows has india as country\n",
    "\n",
    "leaddf.drop(['Country'], axis=1, inplace=True)"
   ]
  },
  {
   "cell_type": "markdown",
   "id": "4bef39c6",
   "metadata": {},
   "source": [
    "#### Column 'City'"
   ]
  },
  {
   "cell_type": "code",
   "execution_count": 34,
   "id": "7e855eee",
   "metadata": {},
   "outputs": [
    {
     "data": {
      "text/plain": [
       "NaN                            3578\n",
       "Mumbai                         3109\n",
       "Thane & Outskirts               723\n",
       "Other Cities                    669\n",
       "Other Cities of Maharashtra     438\n",
       "Other Metro Cities              364\n",
       "Tier II Cities                   72\n",
       "Name: City, dtype: int64"
      ]
     },
     "execution_count": 34,
     "metadata": {},
     "output_type": "execute_result"
    }
   ],
   "source": [
    "leaddf['City'].value_counts(dropna=False)"
   ]
  },
  {
   "cell_type": "code",
   "execution_count": 35,
   "id": "d5089aec",
   "metadata": {},
   "outputs": [],
   "source": [
    "## As observed majority of rows have mumbai, so we can replace with 'mumbai'\n",
    "\n",
    "leaddf['City'] = leaddf['City'].replace(np.nan,'Mumbai')"
   ]
  },
  {
   "cell_type": "code",
   "execution_count": 36,
   "id": "060a8643",
   "metadata": {},
   "outputs": [
    {
     "data": {
      "image/png": "[encoded data removed]",
      "text/plain": [
       "<Figure size 432x288 with 1 Axes>"
      ]
     },
     "metadata": {
      "needs_background": "light"
     },
     "output_type": "display_data"
    }
   ],
   "source": [
    "sns.countplot(x=leaddf[\"City\"],hue=leaddf[\"Converted\"])\n",
    "plt.xticks(rotation=90)\n",
    "plt.show()"
   ]
  },
  {
   "cell_type": "markdown",
   "id": "990406ad",
   "metadata": {},
   "source": [
    "#### Column 'What is your current occupation'"
   ]
  },
  {
   "cell_type": "code",
   "execution_count": 37,
   "id": "460b93df",
   "metadata": {},
   "outputs": [
    {
     "data": {
      "text/plain": [
       "Unemployed              5410\n",
       "NaN                     2643\n",
       "Working Professional     667\n",
       "Student                  204\n",
       "Other                     13\n",
       "Housewife                  9\n",
       "Businessman                7\n",
       "Name: What is your current occupation, dtype: int64"
      ]
     },
     "execution_count": 37,
     "metadata": {},
     "output_type": "execute_result"
    }
   ],
   "source": [
    "leaddf['What is your current occupation'].value_counts(dropna=False)"
   ]
  },
  {
   "cell_type": "code",
   "execution_count": 38,
   "id": "348ffe03",
   "metadata": {},
   "outputs": [
    {
     "data": {
      "text/plain": [
       "Unemployed              0.604267\n",
       "NaN                     0.295208\n",
       "Working Professional    0.074500\n",
       "Student                 0.022786\n",
       "Other                   0.001452\n",
       "Housewife               0.001005\n",
       "Businessman             0.000782\n",
       "Name: What is your current occupation, dtype: float64"
      ]
     },
     "execution_count": 38,
     "metadata": {},
     "output_type": "execute_result"
    }
   ],
   "source": [
    "leaddf['What is your current occupation'].value_counts(dropna=False)/leaddf['What is your current occupation'].shape[0]"
   ]
  },
  {
   "cell_type": "code",
   "execution_count": 39,
   "id": "07db3b40",
   "metadata": {},
   "outputs": [],
   "source": [
    "## As observed majority (60 %) of rows have Unemployed as occupation, so we can replace with 'Unemployed'\n",
    "\n",
    "leaddf['What is your current occupation'] = leaddf['What is your current occupation'].replace(np.nan,'Unemployed')"
   ]
  },
  {
   "cell_type": "code",
   "execution_count": 40,
   "id": "67298611",
   "metadata": {},
   "outputs": [
    {
     "data": {
      "text/plain": [
       "{'Not_converted': {'Unemployed': 66.5838817831864,\n",
       "  'Student': 64.70588235294117,\n",
       "  'Working Professional': 8.245877061469265,\n",
       "  'Businessman': 42.857142857142854,\n",
       "  'Other': 46.15384615384615,\n",
       "  'Housewife': 0.0},\n",
       " 'Converted': {'Unemployed': 33.416118216813615,\n",
       "  'Student': 35.294117647058826,\n",
       "  'Working Professional': 91.75412293853074,\n",
       "  'Businessman': 57.14285714285714,\n",
       "  'Other': 53.84615384615385,\n",
       "  'Housewife': 100.0}}"
      ]
     },
     "execution_count": 40,
     "metadata": {},
     "output_type": "execute_result"
    }
   ],
   "source": [
    "Converted_or_not_percent(leaddf, 'What is your current occupation')"
   ]
  },
  {
   "cell_type": "code",
   "execution_count": 41,
   "id": "1b619075",
   "metadata": {},
   "outputs": [
    {
     "data": {
      "image/png": "[encoded data removed]",
      "text/plain": [
       "<Figure size 432x288 with 1 Axes>"
      ]
     },
     "metadata": {
      "needs_background": "light"
     },
     "output_type": "display_data"
    }
   ],
   "source": [
    "sns.countplot(x=leaddf['What is your current occupation'],hue=leaddf['Converted'])\n",
    "plt.xticks(rotation=90)\n",
    "plt.show()"
   ]
  },
  {
   "cell_type": "markdown",
   "id": "01843197",
   "metadata": {},
   "source": [
    "**Impression** \n",
    "* Working professionals have higher chances of getting converted or hot lead. while, Unemployed have higher chances of not getting converted or cold"
   ]
  },
  {
   "cell_type": "markdown",
   "id": "04bcad9e",
   "metadata": {},
   "source": []
  },
  {
   "cell_type": "markdown",
   "id": "9a7703b7",
   "metadata": {},
   "source": [
    "#### Column 'What is your current occupation'"
   ]
  },
  {
   "cell_type": "code",
   "execution_count": 42,
   "id": "f178e6b7",
   "metadata": {},
   "outputs": [
    {
     "data": {
      "text/plain": [
       "NaN                                  0.366804\n",
       "Finance Management                   0.105551\n",
       "Human Resource Management            0.091589\n",
       "Marketing Management                 0.091031\n",
       "Operations Management                0.055289\n",
       "Business Administration              0.043561\n",
       "IT Projects Management               0.040210\n",
       "Supply Chain Management              0.037753\n",
       "Banking, Investment And Insurance    0.036301\n",
       "Media and Advertising                0.022004\n",
       "Travel and Tourism                   0.021110\n",
       "International Business               0.019100\n",
       "Healthcare Management                0.016866\n",
       "E-COMMERCE                           0.011951\n",
       "Hospitality Management               0.011951\n",
       "Retail Management                    0.010611\n",
       "Rural and Agribusiness               0.007819\n",
       "E-Business                           0.006255\n",
       "Services Excellence                  0.004244\n",
       "Name: Specialization, dtype: float64"
      ]
     },
     "execution_count": 42,
     "metadata": {},
     "output_type": "execute_result"
    }
   ],
   "source": [
    "leaddf['Specialization'].value_counts(dropna=False)/leaddf['Specialization'].shape[0]"
   ]
  },
  {
   "cell_type": "code",
   "execution_count": 43,
   "id": "414b0cb1",
   "metadata": {},
   "outputs": [],
   "source": [
    "leaddf['Specialization'] = leaddf['Specialization'].replace(np.nan, 'Not Specified')"
   ]
  },
  {
   "cell_type": "code",
   "execution_count": 44,
   "id": "b4522f6f",
   "metadata": {},
   "outputs": [
    {
     "data": {
      "image/png": "[encoded data removed]",
      "text/plain": [
       "<Figure size 432x288 with 1 Axes>"
      ]
     },
     "metadata": {
      "needs_background": "light"
     },
     "output_type": "display_data"
    }
   ],
   "source": [
    "sns.countplot(x=leaddf['Specialization'],hue=leaddf['Converted'])\n",
    "plt.xticks(rotation=90)\n",
    "plt.show()"
   ]
  },
  {
   "cell_type": "code",
   "execution_count": 45,
   "id": "ce56433f",
   "metadata": {},
   "outputs": [],
   "source": [
    "# As there many specialization related to management, can combine them into category 'Management_Studies'\n",
    "\n",
    "leaddf['Specialization'] = leaddf['Specialization'].replace(['Finance Management','Human Resource Management',\n",
    "                                                           'Marketing Management','Operations Management',\n",
    "                                                           'IT Projects Management','Supply Chain Management',\n",
    "                                                    'Healthcare Management','Hospitality Management',\n",
    "                                                           'Retail Management'] ,'Management_Studies')  "
   ]
  },
  {
   "cell_type": "code",
   "execution_count": 46,
   "id": "43bf3fda",
   "metadata": {},
   "outputs": [
    {
     "data": {
      "image/png": "[encoded data removed]",
      "text/plain": [
       "<Figure size 432x288 with 1 Axes>"
      ]
     },
     "metadata": {
      "needs_background": "light"
     },
     "output_type": "display_data"
    }
   ],
   "source": [
    "sns.countplot(x=leaddf['Specialization'],hue=leaddf['Converted'])\n",
    "plt.xticks(rotation=90)\n",
    "plt.show()"
   ]
  },
  {
   "cell_type": "markdown",
   "id": "dfe4da74",
   "metadata": {},
   "source": [
    "**Impression**\n",
    "* It can be observed that majority of 'hot' leads have specialization related to management"
   ]
  },
  {
   "cell_type": "markdown",
   "id": "a997d096",
   "metadata": {},
   "source": [
    "#### Column 'Tags'"
   ]
  },
  {
   "cell_type": "code",
   "execution_count": 47,
   "id": "cb50db2f",
   "metadata": {},
   "outputs": [
    {
     "data": {
      "text/plain": [
       "NaN                                                  3284\n",
       "Will revert after reading the email                  2002\n",
       "Ringing                                              1162\n",
       "Interested in other courses                           505\n",
       "Already a student                                     461\n",
       "Closed by Horizzon                                    290\n",
       "switched off                                          237\n",
       "Busy                                                  183\n",
       "Lost to EINS                                          169\n",
       "Not doing further education                           137\n",
       "Interested  in full time MBA                          116\n",
       "Graduation in progress                                110\n",
       "invalid number                                         81\n",
       "Diploma holder (Not Eligible)                          63\n",
       "wrong number given                                     46\n",
       "opp hangup                                             33\n",
       "number not provided                                    26\n",
       "in touch with EINS                                     12\n",
       "Lost to Others                                          7\n",
       "Still Thinking                                          6\n",
       "In confusion whether part time or DLP                   5\n",
       "Interested in Next batch                                5\n",
       "Want to take admission but has financial problems       5\n",
       "Lateral student                                         3\n",
       "Shall take in the next coming month                     2\n",
       "University not recognized                               2\n",
       "Recognition issue (DEC approval)                        1\n",
       "Name: Tags, dtype: int64"
      ]
     },
     "execution_count": 47,
     "metadata": {},
     "output_type": "execute_result"
    }
   ],
   "source": [
    "leaddf['Tags'].value_counts(dropna=False)"
   ]
  },
  {
   "cell_type": "code",
   "execution_count": 48,
   "id": "d0c3dce2",
   "metadata": {},
   "outputs": [],
   "source": [
    "leaddf['Tags'] = leaddf['Tags'].replace(np.nan, 'Not Specified')"
   ]
  },
  {
   "cell_type": "code",
   "execution_count": 49,
   "id": "dd2b6334",
   "metadata": {},
   "outputs": [
    {
     "data": {
      "image/png": "[encoded data removed]",
      "text/plain": [
       "<Figure size 432x288 with 1 Axes>"
      ]
     },
     "metadata": {
      "needs_background": "light"
     },
     "output_type": "display_data"
    }
   ],
   "source": [
    "sns.countplot(x=leaddf['Tags'],hue=leaddf['Converted'])\n",
    "plt.xticks(rotation=90)\n",
    "plt.show()"
   ]
  },
  {
   "cell_type": "code",
   "execution_count": 50,
   "id": "d616a8e7",
   "metadata": {},
   "outputs": [],
   "source": [
    "## less than 50 occurences are grouped into one category\n",
    "\n",
    "d = leaddf['Tags'].value_counts(dropna=False)\n",
    "to_be_droped_cols = d[d < 50].index\n",
    "\n",
    "leaddf['Tags'] = leaddf['Tags'].replace(to_be_droped_cols, 'Other_Tags')"
   ]
  },
  {
   "cell_type": "code",
   "execution_count": 51,
   "id": "8e72e4bf",
   "metadata": {},
   "outputs": [
    {
     "data": {
      "image/png": "[encoded data removed]",
      "text/plain": [
       "<Figure size 432x288 with 1 Axes>"
      ]
     },
     "metadata": {
      "needs_background": "light"
     },
     "output_type": "display_data"
    }
   ],
   "source": [
    "sns.countplot(x=leaddf['Tags'],hue=leaddf['Converted'])\n",
    "plt.xticks(rotation=90)\n",
    "plt.show()"
   ]
  },
  {
   "cell_type": "markdown",
   "id": "8d3643ae",
   "metadata": {},
   "source": [
    "#### Column 'What matters most to you in choosing a course'"
   ]
  },
  {
   "cell_type": "code",
   "execution_count": 52,
   "id": "624b99d8",
   "metadata": {},
   "outputs": [
    {
     "data": {
      "text/plain": [
       "Better Career Prospects      0.702558\n",
       "NaN                          0.297219\n",
       "Flexibility & Convenience    0.000112\n",
       "Other                        0.000112\n",
       "Name: What matters most to you in choosing a course, dtype: float64"
      ]
     },
     "execution_count": 52,
     "metadata": {},
     "output_type": "execute_result"
    }
   ],
   "source": [
    "leaddf['What matters most to you in choosing a course'].value_counts(dropna=False)/leaddf['What matters most to you in choosing a course'].shape[0]"
   ]
  },
  {
   "cell_type": "code",
   "execution_count": 53,
   "id": "4c458bd1",
   "metadata": {},
   "outputs": [],
   "source": [
    "# As this column provides no new information, we can drop this column\n",
    "\n",
    "leaddf.drop(['What matters most to you in choosing a course'], axis=1, inplace=True)"
   ]
  },
  {
   "cell_type": "markdown",
   "id": "bf918b6e",
   "metadata": {},
   "source": [
    "#### Column ''Lead Origin''"
   ]
  },
  {
   "cell_type": "code",
   "execution_count": 54,
   "id": "bffb6026",
   "metadata": {},
   "outputs": [
    {
     "data": {
      "text/plain": [
       "Landing Page Submission    0.532671\n",
       "API                        0.396068\n",
       "Lead Add Form              0.067799\n",
       "Lead Import                0.003463\n",
       "Name: Lead Origin, dtype: float64"
      ]
     },
     "execution_count": 54,
     "metadata": {},
     "output_type": "execute_result"
    }
   ],
   "source": [
    "leaddf['Lead Origin'].value_counts(dropna=False)/leaddf['Lead Origin'].shape[0]"
   ]
  },
  {
   "cell_type": "code",
   "execution_count": 55,
   "id": "62cd3671",
   "metadata": {},
   "outputs": [
    {
     "data": {
      "image/png": "[encoded data removed]",
      "text/plain": [
       "<Figure size 432x288 with 1 Axes>"
      ]
     },
     "metadata": {
      "needs_background": "light"
     },
     "output_type": "display_data"
    }
   ],
   "source": [
    "sns.countplot(x=leaddf['Lead Origin'],hue=leaddf['Converted'])\n",
    "plt.xticks(rotation=90)\n",
    "plt.show()"
   ]
  },
  {
   "cell_type": "code",
   "execution_count": 56,
   "id": "2b374482",
   "metadata": {},
   "outputs": [
    {
     "data": {
      "text/plain": [
       "{'Not_converted': {'API': 68.97913141567965,\n",
       "  'Landing Page Submission': 63.975676242398826,\n",
       "  'Lead Add Form': 6.425041186161449,\n",
       "  'Lead Import': 70.96774193548387},\n",
       " 'Converted': {'API': 31.02086858432036,\n",
       "  'Landing Page Submission': 36.024323757601174,\n",
       "  'Lead Add Form': 93.57495881383855,\n",
       "  'Lead Import': 29.03225806451613}}"
      ]
     },
     "execution_count": 56,
     "metadata": {},
     "output_type": "execute_result"
    }
   ],
   "source": [
    "Converted_or_not_percent(leaddf, 'Lead Origin')"
   ]
  },
  {
   "cell_type": "markdown",
   "id": "3e9b88f3",
   "metadata": {},
   "source": [
    "**Impression**\n",
    "* Lead add form showed a higher convertion, while, API showed lower convertion or hot leads"
   ]
  },
  {
   "cell_type": "markdown",
   "id": "1c0f6dd5",
   "metadata": {},
   "source": [
    "#### Column ''Lead Source''"
   ]
  },
  {
   "cell_type": "code",
   "execution_count": 57,
   "id": "05a1a1cd",
   "metadata": {},
   "outputs": [
    {
     "data": {
      "text/plain": [
       "Google               2836\n",
       "Direct Traffic       2499\n",
       "Olark Chat           1751\n",
       "Organic Search       1092\n",
       "Reference             442\n",
       "Welingak Website      129\n",
       "Referral Sites        117\n",
       "Facebook               31\n",
       "NaN                    29\n",
       "bing                    6\n",
       "google                  5\n",
       "Click2call              4\n",
       "Social Media            2\n",
       "Live Chat               2\n",
       "Pay per Click Ads       1\n",
       "blog                    1\n",
       "WeLearn                 1\n",
       "welearnblog_Home        1\n",
       "youtubechannel          1\n",
       "testone                 1\n",
       "Press_Release           1\n",
       "NC_EDM                  1\n",
       "Name: Lead Source, dtype: int64"
      ]
     },
     "execution_count": 57,
     "metadata": {},
     "output_type": "execute_result"
    }
   ],
   "source": [
    "leaddf['Lead Source'].value_counts(dropna=False)"
   ]
  },
  {
   "cell_type": "code",
   "execution_count": 58,
   "id": "0838b60d",
   "metadata": {},
   "outputs": [],
   "source": [
    "leaddf['Lead Source'] = leaddf['Lead Source'].replace(np.nan,'Others')\n",
    "leaddf['Lead Source'] = leaddf['Lead Source'].replace('google','Google')\n",
    "leaddf['Lead Source'] = leaddf['Lead Source'].replace('Facebook','Social Media')\n",
    "leaddf['Lead Source'] = leaddf['Lead Source'].replace(['bing','Click2call','Press_Release',\n",
    "                                                     'youtubechannel','welearnblog_Home',\n",
    "                                                     'WeLearn','blog','Pay per Click Ads',\n",
    "                                                    'testone','NC_EDM'] ,'Others')"
   ]
  },
  {
   "cell_type": "code",
   "execution_count": 59,
   "id": "03d3f9d3",
   "metadata": {},
   "outputs": [
    {
     "data": {
      "text/plain": [
       "Google              2841\n",
       "Direct Traffic      2499\n",
       "Olark Chat          1751\n",
       "Organic Search      1092\n",
       "Reference            442\n",
       "Welingak Website     129\n",
       "Referral Sites       117\n",
       "Others                47\n",
       "Social Media          33\n",
       "Live Chat              2\n",
       "Name: Lead Source, dtype: int64"
      ]
     },
     "execution_count": 59,
     "metadata": {},
     "output_type": "execute_result"
    }
   ],
   "source": [
    "leaddf['Lead Source'].value_counts(dropna=False)"
   ]
  },
  {
   "cell_type": "code",
   "execution_count": 60,
   "id": "9142df03",
   "metadata": {},
   "outputs": [
    {
     "data": {
      "image/png": "[encoded data removed]",
      "text/plain": [
       "<Figure size 432x288 with 1 Axes>"
      ]
     },
     "metadata": {
      "needs_background": "light"
     },
     "output_type": "display_data"
    }
   ],
   "source": [
    "sns.countplot(x=leaddf['Lead Source'],hue=leaddf['Converted'])\n",
    "plt.xticks(rotation=90)\n",
    "plt.show()"
   ]
  },
  {
   "cell_type": "code",
   "execution_count": 61,
   "id": "40c0961b",
   "metadata": {},
   "outputs": [
    {
     "data": {
      "text/plain": [
       "{'Not_converted': {'Olark Chat': 74.47173043974871,\n",
       "  'Organic Search': 63.18681318681318,\n",
       "  'Direct Traffic': 67.78711484593838,\n",
       "  'Google': 60.15487504399859,\n",
       "  'Referral Sites': 75.21367521367522,\n",
       "  'Reference': 7.46606334841629,\n",
       "  'Welingak Website': 1.550387596899225,\n",
       "  'Social Media': 69.6969696969697,\n",
       "  'Others': 31.914893617021278,\n",
       "  'Live Chat': 0.0},\n",
       " 'Converted': {'Olark Chat': 25.52826956025129,\n",
       "  'Organic Search': 36.81318681318682,\n",
       "  'Direct Traffic': 32.212885154061624,\n",
       "  'Google': 39.84512495600141,\n",
       "  'Referral Sites': 24.786324786324787,\n",
       "  'Reference': 92.53393665158372,\n",
       "  'Welingak Website': 98.44961240310077,\n",
       "  'Social Media': 30.303030303030305,\n",
       "  'Others': 68.08510638297872,\n",
       "  'Live Chat': 100.0}}"
      ]
     },
     "execution_count": 61,
     "metadata": {},
     "output_type": "execute_result"
    }
   ],
   "source": [
    "Converted_or_not_percent(leaddf, 'Lead Source')"
   ]
  },
  {
   "cell_type": "markdown",
   "id": "7a76baab",
   "metadata": {},
   "source": [
    "**Impression**\n",
    "* maximum lead come from google\n",
    "* 'Reference','Welingak Website' and others showed higher conversion rates.\n",
    "* maximum cold leads from Olark Chat, organic search, direct traffic, and google"
   ]
  },
  {
   "cell_type": "markdown",
   "id": "7fddf33c",
   "metadata": {},
   "source": [
    "#### Column 'A free copy of Mastering The Interview' and 'Last Notable Activity'"
   ]
  },
  {
   "cell_type": "code",
   "execution_count": 62,
   "id": "4a6a41f9",
   "metadata": {},
   "outputs": [
    {
     "data": {
      "text/plain": [
       "No     6155\n",
       "Yes    2798\n",
       "Name: A free copy of Mastering The Interview, dtype: int64"
      ]
     },
     "execution_count": 62,
     "metadata": {},
     "output_type": "execute_result"
    }
   ],
   "source": [
    "leaddf['A free copy of Mastering The Interview'].value_counts(dropna=False)"
   ]
  },
  {
   "cell_type": "code",
   "execution_count": 63,
   "id": "27d0878a",
   "metadata": {},
   "outputs": [
    {
     "data": {
      "text/plain": [
       "Modified                        3224\n",
       "Email Opened                    2789\n",
       "SMS Sent                        2143\n",
       "Page Visited on Website          288\n",
       "Olark Chat Conversation          182\n",
       "Email Link Clicked               170\n",
       "Email Bounced                     59\n",
       "Unsubscribed                      46\n",
       "Unreachable                       32\n",
       "Had a Phone Conversation          13\n",
       "Email Marked Spam                  2\n",
       "Approached upfront                 1\n",
       "Resubscribed to emails             1\n",
       "View in browser link Clicked       1\n",
       "Form Submitted on Website          1\n",
       "Email Received                     1\n",
       "Name: Last Notable Activity, dtype: int64"
      ]
     },
     "execution_count": 63,
     "metadata": {},
     "output_type": "execute_result"
    }
   ],
   "source": [
    "leaddf['Last Notable Activity'].value_counts(dropna=False)"
   ]
  },
  {
   "cell_type": "code",
   "execution_count": 64,
   "id": "f4d9c052",
   "metadata": {},
   "outputs": [],
   "source": [
    "## less than 30 occurences are grouped into one category\n",
    "\n",
    "d = leaddf['Last Notable Activity'].value_counts(dropna=False)\n",
    "to_be_droped_cols = d[d < 60].index\n",
    "\n",
    "leaddf['Last Notable Activity'] = leaddf['Last Notable Activity'].replace(to_be_droped_cols, 'Other_Notable_activity')"
   ]
  },
  {
   "cell_type": "code",
   "execution_count": 65,
   "id": "3669d0cf",
   "metadata": {},
   "outputs": [
    {
     "data": {
      "image/png": "[encoded data removed]",
      "text/plain": [
       "<Figure size 432x288 with 1 Axes>"
      ]
     },
     "metadata": {
      "needs_background": "light"
     },
     "output_type": "display_data"
    }
   ],
   "source": [
    "sns.countplot(x=leaddf['Last Notable Activity'],hue=leaddf['Converted'])\n",
    "plt.xticks(rotation=90)\n",
    "plt.show()"
   ]
  },
  {
   "cell_type": "code",
   "execution_count": 66,
   "id": "55c954cd",
   "metadata": {},
   "outputs": [
    {
     "data": {
      "text/plain": [
       "Lead Origin                                 0\n",
       "Lead Source                                 0\n",
       "Do Not Email                                0\n",
       "Do Not Call                                 0\n",
       "Converted                                   0\n",
       "TotalVisits                                 0\n",
       "Total Time Spent on Website                 0\n",
       "Page Views Per Visit                        0\n",
       "Last Activity                               0\n",
       "Specialization                              0\n",
       "What is your current occupation             0\n",
       "Search                                      0\n",
       "Magazine                                    0\n",
       "Newspaper Article                           0\n",
       "X Education Forums                          0\n",
       "Newspaper                                   0\n",
       "Digital Advertisement                       0\n",
       "Through Recommendations                     0\n",
       "Receive More Updates About Our Courses      0\n",
       "Tags                                        0\n",
       "Update me on Supply Chain Content           0\n",
       "Get updates on DM Content                   0\n",
       "City                                        0\n",
       "I agree to pay the amount through cheque    0\n",
       "A free copy of Mastering The Interview      0\n",
       "Last Notable Activity                       0\n",
       "dtype: int64"
      ]
     },
     "execution_count": 66,
     "metadata": {},
     "output_type": "execute_result"
    }
   ],
   "source": [
    "## Check null values in any columns\n",
    "\n",
    "leaddf.isnull().sum()"
   ]
  },
  {
   "cell_type": "markdown",
   "id": "2e616b99",
   "metadata": {},
   "source": [
    "#### Column 'Do Not Email'"
   ]
  },
  {
   "cell_type": "code",
   "execution_count": 67,
   "id": "84c748cd",
   "metadata": {},
   "outputs": [
    {
     "data": {
      "text/plain": [
       "No     8256\n",
       "Yes     697\n",
       "Name: Do Not Email, dtype: int64"
      ]
     },
     "execution_count": 67,
     "metadata": {},
     "output_type": "execute_result"
    }
   ],
   "source": [
    "leaddf['Do Not Email'].value_counts(dropna=False)"
   ]
  },
  {
   "cell_type": "markdown",
   "id": "ae0319e5",
   "metadata": {},
   "source": [
    "#### Imbalanced columns that can be dropped"
   ]
  },
  {
   "cell_type": "code",
   "execution_count": 68,
   "id": "7e3665fc",
   "metadata": {},
   "outputs": [
    {
     "data": {
      "text/plain": [
       "No     8951\n",
       "Yes       2\n",
       "Name: Do Not Call, dtype: int64"
      ]
     },
     "execution_count": 68,
     "metadata": {},
     "output_type": "execute_result"
    }
   ],
   "source": [
    "leaddf['Do Not Call'].value_counts(dropna=False)"
   ]
  },
  {
   "cell_type": "code",
   "execution_count": 69,
   "id": "51b98c8e",
   "metadata": {},
   "outputs": [
    {
     "data": {
      "text/plain": [
       "No    8953\n",
       "Name: Magazine, dtype: int64"
      ]
     },
     "execution_count": 69,
     "metadata": {},
     "output_type": "execute_result"
    }
   ],
   "source": [
    "leaddf['Magazine'].value_counts(dropna=False)"
   ]
  },
  {
   "cell_type": "code",
   "execution_count": 70,
   "id": "c6f3359a",
   "metadata": {},
   "outputs": [
    {
     "data": {
      "text/plain": [
       "No     8952\n",
       "Yes       1\n",
       "Name: Newspaper Article, dtype: int64"
      ]
     },
     "execution_count": 70,
     "metadata": {},
     "output_type": "execute_result"
    }
   ],
   "source": [
    "leaddf['Newspaper Article'].value_counts(dropna=False)"
   ]
  },
  {
   "cell_type": "code",
   "execution_count": 71,
   "id": "6a658a35",
   "metadata": {},
   "outputs": [
    {
     "data": {
      "text/plain": [
       "No     8940\n",
       "Yes      13\n",
       "Name: Search, dtype: int64"
      ]
     },
     "execution_count": 71,
     "metadata": {},
     "output_type": "execute_result"
    }
   ],
   "source": [
    "leaddf['Search'].value_counts(dropna=False)"
   ]
  },
  {
   "cell_type": "code",
   "execution_count": 72,
   "id": "5cf2e3e6",
   "metadata": {},
   "outputs": [
    {
     "data": {
      "text/plain": [
       "No     8952\n",
       "Yes       1\n",
       "Name: Newspaper, dtype: int64"
      ]
     },
     "execution_count": 72,
     "metadata": {},
     "output_type": "execute_result"
    }
   ],
   "source": [
    "leaddf['Newspaper'].value_counts(dropna=False)"
   ]
  },
  {
   "cell_type": "code",
   "execution_count": 73,
   "id": "8bab5b73",
   "metadata": {},
   "outputs": [
    {
     "data": {
      "text/plain": [
       "No     8950\n",
       "Yes       3\n",
       "Name: Digital Advertisement, dtype: int64"
      ]
     },
     "execution_count": 73,
     "metadata": {},
     "output_type": "execute_result"
    }
   ],
   "source": [
    "leaddf['Digital Advertisement'].value_counts(dropna=False)"
   ]
  },
  {
   "cell_type": "code",
   "execution_count": 74,
   "id": "e41137ef",
   "metadata": {},
   "outputs": [
    {
     "data": {
      "text/plain": [
       "No    8953\n",
       "Name: X Education Forums, dtype: int64"
      ]
     },
     "execution_count": 74,
     "metadata": {},
     "output_type": "execute_result"
    }
   ],
   "source": [
    "leaddf['X Education Forums'].value_counts(dropna=False)"
   ]
  },
  {
   "cell_type": "code",
   "execution_count": 75,
   "id": "86e7f79c",
   "metadata": {},
   "outputs": [
    {
     "data": {
      "text/plain": [
       "No    8953\n",
       "Name: Receive More Updates About Our Courses, dtype: int64"
      ]
     },
     "execution_count": 75,
     "metadata": {},
     "output_type": "execute_result"
    }
   ],
   "source": [
    "leaddf['Receive More Updates About Our Courses'].value_counts(dropna=False)"
   ]
  },
  {
   "cell_type": "code",
   "execution_count": 76,
   "id": "f90a394e",
   "metadata": {},
   "outputs": [
    {
     "data": {
      "text/plain": [
       "No     8947\n",
       "Yes       6\n",
       "Name: Through Recommendations, dtype: int64"
      ]
     },
     "execution_count": 76,
     "metadata": {},
     "output_type": "execute_result"
    }
   ],
   "source": [
    "leaddf['Through Recommendations'].value_counts(dropna=False)"
   ]
  },
  {
   "cell_type": "code",
   "execution_count": 77,
   "id": "250074b1",
   "metadata": {},
   "outputs": [
    {
     "data": {
      "text/plain": [
       "No    8953\n",
       "Name: Get updates on DM Content, dtype: int64"
      ]
     },
     "execution_count": 77,
     "metadata": {},
     "output_type": "execute_result"
    }
   ],
   "source": [
    "leaddf['Get updates on DM Content'].value_counts(dropna=False)"
   ]
  },
  {
   "cell_type": "code",
   "execution_count": 78,
   "id": "6052fc99",
   "metadata": {},
   "outputs": [
    {
     "data": {
      "text/plain": [
       "No    8953\n",
       "Name: Update me on Supply Chain Content, dtype: int64"
      ]
     },
     "execution_count": 78,
     "metadata": {},
     "output_type": "execute_result"
    }
   ],
   "source": [
    "leaddf['Update me on Supply Chain Content'].value_counts(dropna=False)"
   ]
  },
  {
   "cell_type": "code",
   "execution_count": 79,
   "id": "47ae5dea",
   "metadata": {},
   "outputs": [
    {
     "data": {
      "text/plain": [
       "No    8953\n",
       "Name: I agree to pay the amount through cheque, dtype: int64"
      ]
     },
     "execution_count": 79,
     "metadata": {},
     "output_type": "execute_result"
    }
   ],
   "source": [
    "leaddf['I agree to pay the amount through cheque'].value_counts(dropna=False)"
   ]
  },
  {
   "cell_type": "code",
   "execution_count": 80,
   "id": "c91eb3b1",
   "metadata": {},
   "outputs": [],
   "source": [
    "## drop the above imbalanced columns\n",
    "\n",
    "to_be_drop_cols = ['Do Not Call', 'Magazine', 'Newspaper Article', 'Search', 'Newspaper', \n",
    "                   'Digital Advertisement','X Education Forums', 'Receive More Updates About Our Courses',\n",
    "                   'Through Recommendations','Get updates on DM Content', 'Update me on Supply Chain Content', \n",
    "                   'Do Not Call', 'I agree to pay the amount through cheque']\n",
    "\n",
    "leaddf.drop(to_be_drop_cols, axis=1, inplace=True)"
   ]
  },
  {
   "cell_type": "markdown",
   "id": "d6dd7cfe",
   "metadata": {},
   "source": [
    "### Create dummy variable for categorical columns"
   ]
  },
  {
   "cell_type": "code",
   "execution_count": 81,
   "id": "c29703ec",
   "metadata": {},
   "outputs": [
    {
     "data": {
      "text/plain": [
       "Index(['A free copy of Mastering The Interview', 'City', 'Do Not Email',\n",
       "       'Last Activity', 'Last Notable Activity', 'Lead Origin', 'Lead Source',\n",
       "       'Specialization', 'Tags', 'What is your current occupation'],\n",
       "      dtype='object')"
      ]
     },
     "execution_count": 81,
     "metadata": {},
     "output_type": "execute_result"
    }
   ],
   "source": [
    "## final categorical columns\n",
    "leaddf[leaddf.columns.difference(leaddf.describe().columns)].columns"
   ]
  },
  {
   "cell_type": "code",
   "execution_count": 82,
   "id": "677a4557",
   "metadata": {},
   "outputs": [
    {
     "data": {
      "text/plain": [
       "Index(['Converted', 'TotalVisits', 'Total Time Spent on Website',\n",
       "       'Page Views Per Visit'],\n",
       "      dtype='object')"
      ]
     },
     "execution_count": 82,
     "metadata": {},
     "output_type": "execute_result"
    }
   ],
   "source": [
    "## final categorical columns\n",
    "leaddf.describe().columns"
   ]
  },
  {
   "cell_type": "code",
   "execution_count": 83,
   "id": "fc277df0",
   "metadata": {},
   "outputs": [
    {
     "data": {
      "text/plain": [
       "(8953, 14)"
      ]
     },
     "execution_count": 83,
     "metadata": {},
     "output_type": "execute_result"
    }
   ],
   "source": [
    "leaddf.shape"
   ]
  },
  {
   "cell_type": "code",
   "execution_count": 84,
   "id": "404bf092",
   "metadata": {},
   "outputs": [],
   "source": [
    "## dummy for 'Last Activity'\n",
    "\n",
    "leaddf = pd.get_dummies(leaddf, columns=['Last Activity'], prefix  = 'Last Activity')"
   ]
  },
  {
   "cell_type": "code",
   "execution_count": 85,
   "id": "b97d82e5",
   "metadata": {},
   "outputs": [],
   "source": [
    "## dummy for 'Last Notable Activity'\n",
    "\n",
    "leaddf = pd.get_dummies(leaddf, columns=['Last Notable Activity'], prefix  = 'Last Notable Activity')\n",
    "leaddf.drop(['Last Notable Activity_Other_Notable_activity'], axis=1, inplace=True)"
   ]
  },
  {
   "cell_type": "code",
   "execution_count": 86,
   "id": "9d20f678",
   "metadata": {},
   "outputs": [],
   "source": [
    "## dummy for 'Specialization'\n",
    "\n",
    "leaddf = pd.get_dummies(leaddf, columns=['Specialization'], prefix  = 'Specialization')\n",
    "leaddf.drop(['Specialization_Not Specified'], axis=1, inplace=True)"
   ]
  },
  {
   "cell_type": "code",
   "execution_count": 87,
   "id": "5cfbbea7",
   "metadata": {},
   "outputs": [],
   "source": [
    "## dummy for 'What is your current occupation'\n",
    "\n",
    "leaddf = pd.get_dummies(leaddf, columns=['What is your current occupation'], prefix  = 'What is your current occupation', drop_first=True)"
   ]
  },
  {
   "cell_type": "code",
   "execution_count": 88,
   "id": "18193038",
   "metadata": {},
   "outputs": [],
   "source": [
    "## dummy for 'Lead Origin'\n",
    "\n",
    "leaddf = pd.get_dummies(leaddf, columns=['Lead Origin'], prefix  = 'Lead Origin', drop_first=True)"
   ]
  },
  {
   "cell_type": "code",
   "execution_count": 89,
   "id": "450836b4",
   "metadata": {},
   "outputs": [],
   "source": [
    "## dummy for 'Lead Source'\n",
    "\n",
    "leaddf = pd.get_dummies(leaddf, columns=['Lead Source'], prefix  = 'Lead Source')\n",
    "leaddf.drop(['Lead Source_Others'], axis=1, inplace=True)"
   ]
  },
  {
   "cell_type": "code",
   "execution_count": 90,
   "id": "0af3e3d6",
   "metadata": {},
   "outputs": [],
   "source": [
    "## dummy for 'Tags'\n",
    "\n",
    "leaddf = pd.get_dummies(leaddf, columns=['Tags'], prefix  = 'Tags')\n",
    "leaddf.drop(['Tags_Not Specified'], axis=1, inplace=True)"
   ]
  },
  {
   "cell_type": "code",
   "execution_count": 91,
   "id": "c1367b1c",
   "metadata": {
    "scrolled": true
   },
   "outputs": [],
   "source": [
    "## dummy for 'A free copy of Mastering The Interview'\n",
    "\n",
    "leaddf['A free copy of Mastering The Interview'] = leaddf['A free copy of Mastering The Interview'].apply(lambda x: 1 if x == 'Yes' else 0)\n",
    "dummy = pd.get_dummies(leaddf, columns=['A free copy of Mastering The Interview'], prefix  = 'A free copy of Mastering The Interview')"
   ]
  },
  {
   "cell_type": "code",
   "execution_count": 92,
   "id": "d59bf0e9",
   "metadata": {},
   "outputs": [],
   "source": [
    "## dummy for 'A free copy of Mastering The Interview'\n",
    "\n",
    "leaddf['Do Not Email'] = leaddf['Do Not Email'].apply(lambda x: 1 if x == 'Yes' else 0)\n",
    "dummy = pd.get_dummies(leaddf, columns=['Do Not Email'], prefix  = 'Do Not Email')"
   ]
  },
  {
   "cell_type": "code",
   "execution_count": 93,
   "id": "d39378d2",
   "metadata": {},
   "outputs": [],
   "source": [
    "## dummy for 'City'\n",
    "\n",
    "leaddf = pd.get_dummies(leaddf, columns=['City'], prefix  = 'City', drop_first=True)"
   ]
  },
  {
   "cell_type": "code",
   "execution_count": 94,
   "id": "2d548e19",
   "metadata": {},
   "outputs": [
    {
     "data": {
      "text/plain": [
       "(8953, 75)"
      ]
     },
     "execution_count": 94,
     "metadata": {},
     "output_type": "execute_result"
    }
   ],
   "source": [
    "## Current shape after adding dummies\n",
    "\n",
    "leaddf.shape"
   ]
  },
  {
   "cell_type": "markdown",
   "id": "33a47626",
   "metadata": {},
   "source": [
    "### Train test split"
   ]
  },
  {
   "cell_type": "markdown",
   "id": "7778cf52",
   "metadata": {},
   "source": [
    "#### remove target variable to split the data"
   ]
  },
  {
   "cell_type": "code",
   "execution_count": 95,
   "id": "e3ed150d",
   "metadata": {},
   "outputs": [],
   "source": [
    "targ_y = leaddf.pop('Converted')\n",
    "indep_x = leaddf\n",
    "\n",
    "xtrain,xtest,ytrain,ytest = train_test_split(indep_x, targ_y, test_size=0.2, random_state=20)"
   ]
  },
  {
   "cell_type": "code",
   "execution_count": 96,
   "id": "1f85e9b4",
   "metadata": {},
   "outputs": [
    {
     "data": {
      "text/plain": [
       "((7162, 74), (1791, 74))"
      ]
     },
     "execution_count": 96,
     "metadata": {},
     "output_type": "execute_result"
    }
   ],
   "source": [
    "## shape of train and test dataset\n",
    "\n",
    "xtrain.shape, xtest.shape"
   ]
  },
  {
   "cell_type": "markdown",
   "id": "f8c5d0dd",
   "metadata": {},
   "source": [
    "### Normalization or scaling of columns"
   ]
  },
  {
   "cell_type": "code",
   "execution_count": 97,
   "id": "30805e28",
   "metadata": {},
   "outputs": [],
   "source": [
    "numerical_cols = xtrain.select_dtypes(include=['float64', 'int64']).columns\n",
    "\n",
    "scaler = MinMaxScaler()\n",
    "\n",
    "xtrain[numerical_cols] = scaler.fit_transform(xtrain[numerical_cols])"
   ]
  },
  {
   "cell_type": "code",
   "execution_count": 98,
   "id": "57705498",
   "metadata": {},
   "outputs": [
    {
     "data": {
      "text/html": [
       "<div>\n",
       "<style scoped>\n",
       "    .dataframe tbody tr th:only-of-type {\n",
       "        vertical-align: middle;\n",
       "    }\n",
       "\n",
       "    .dataframe tbody tr th {\n",
       "        vertical-align: top;\n",
       "    }\n",
       "\n",
       "    .dataframe thead th {\n",
       "        text-align: right;\n",
       "    }\n",
       "</style>\n",
       "<table border=\"1\" class=\"dataframe\">\n",
       "  <thead>\n",
       "    <tr style=\"text-align: right;\">\n",
       "      <th></th>\n",
       "      <th>Do Not Email</th>\n",
       "      <th>TotalVisits</th>\n",
       "      <th>Total Time Spent on Website</th>\n",
       "      <th>Page Views Per Visit</th>\n",
       "      <th>A free copy of Mastering The Interview</th>\n",
       "      <th>Last Activity_Approached upfront</th>\n",
       "      <th>Last Activity_Converted to Lead</th>\n",
       "      <th>Last Activity_Email Bounced</th>\n",
       "      <th>Last Activity_Email Link Clicked</th>\n",
       "      <th>Last Activity_Email Marked Spam</th>\n",
       "      <th>...</th>\n",
       "      <th>Tags_Other_Tags</th>\n",
       "      <th>Tags_Ringing</th>\n",
       "      <th>Tags_Will revert after reading the email</th>\n",
       "      <th>Tags_invalid number</th>\n",
       "      <th>Tags_switched off</th>\n",
       "      <th>City_Other Cities</th>\n",
       "      <th>City_Other Cities of Maharashtra</th>\n",
       "      <th>City_Other Metro Cities</th>\n",
       "      <th>City_Thane &amp; Outskirts</th>\n",
       "      <th>City_Tier II Cities</th>\n",
       "    </tr>\n",
       "  </thead>\n",
       "  <tbody>\n",
       "    <tr>\n",
       "      <th>count</th>\n",
       "      <td>7162.000000</td>\n",
       "      <td>7162.000000</td>\n",
       "      <td>7162.000000</td>\n",
       "      <td>7162.000000</td>\n",
       "      <td>7162.000000</td>\n",
       "      <td>7162.000000</td>\n",
       "      <td>7162.000000</td>\n",
       "      <td>7162.000000</td>\n",
       "      <td>7162.000000</td>\n",
       "      <td>7162.000000</td>\n",
       "      <td>...</td>\n",
       "      <td>7162.000000</td>\n",
       "      <td>7162.000000</td>\n",
       "      <td>7162.000000</td>\n",
       "      <td>7162.000000</td>\n",
       "      <td>7162.000000</td>\n",
       "      <td>7162.000000</td>\n",
       "      <td>7162.000000</td>\n",
       "      <td>7162.000000</td>\n",
       "      <td>7162.000000</td>\n",
       "      <td>7162.000000</td>\n",
       "    </tr>\n",
       "    <tr>\n",
       "      <th>mean</th>\n",
       "      <td>0.077213</td>\n",
       "      <td>0.184585</td>\n",
       "      <td>0.210864</td>\n",
       "      <td>0.250708</td>\n",
       "      <td>0.314717</td>\n",
       "      <td>0.000559</td>\n",
       "      <td>0.048171</td>\n",
       "      <td>0.034069</td>\n",
       "      <td>0.030159</td>\n",
       "      <td>0.000279</td>\n",
       "      <td>...</td>\n",
       "      <td>0.016755</td>\n",
       "      <td>0.129712</td>\n",
       "      <td>0.223122</td>\n",
       "      <td>0.009076</td>\n",
       "      <td>0.027227</td>\n",
       "      <td>0.076096</td>\n",
       "      <td>0.048590</td>\n",
       "      <td>0.040352</td>\n",
       "      <td>0.080843</td>\n",
       "      <td>0.008238</td>\n",
       "    </tr>\n",
       "    <tr>\n",
       "      <th>std</th>\n",
       "      <td>0.266948</td>\n",
       "      <td>0.170534</td>\n",
       "      <td>0.239799</td>\n",
       "      <td>0.209488</td>\n",
       "      <td>0.464435</td>\n",
       "      <td>0.023628</td>\n",
       "      <td>0.214142</td>\n",
       "      <td>0.181418</td>\n",
       "      <td>0.171037</td>\n",
       "      <td>0.016710</td>\n",
       "      <td>...</td>\n",
       "      <td>0.128361</td>\n",
       "      <td>0.336010</td>\n",
       "      <td>0.416369</td>\n",
       "      <td>0.094840</td>\n",
       "      <td>0.162756</td>\n",
       "      <td>0.265170</td>\n",
       "      <td>0.215024</td>\n",
       "      <td>0.196797</td>\n",
       "      <td>0.272613</td>\n",
       "      <td>0.090395</td>\n",
       "    </tr>\n",
       "    <tr>\n",
       "      <th>min</th>\n",
       "      <td>0.000000</td>\n",
       "      <td>0.000000</td>\n",
       "      <td>0.000000</td>\n",
       "      <td>0.000000</td>\n",
       "      <td>0.000000</td>\n",
       "      <td>0.000000</td>\n",
       "      <td>0.000000</td>\n",
       "      <td>0.000000</td>\n",
       "      <td>0.000000</td>\n",
       "      <td>0.000000</td>\n",
       "      <td>...</td>\n",
       "      <td>0.000000</td>\n",
       "      <td>0.000000</td>\n",
       "      <td>0.000000</td>\n",
       "      <td>0.000000</td>\n",
       "      <td>0.000000</td>\n",
       "      <td>0.000000</td>\n",
       "      <td>0.000000</td>\n",
       "      <td>0.000000</td>\n",
       "      <td>0.000000</td>\n",
       "      <td>0.000000</td>\n",
       "    </tr>\n",
       "    <tr>\n",
       "      <th>25%</th>\n",
       "      <td>0.000000</td>\n",
       "      <td>0.058824</td>\n",
       "      <td>0.002641</td>\n",
       "      <td>0.111111</td>\n",
       "      <td>0.000000</td>\n",
       "      <td>0.000000</td>\n",
       "      <td>0.000000</td>\n",
       "      <td>0.000000</td>\n",
       "      <td>0.000000</td>\n",
       "      <td>0.000000</td>\n",
       "      <td>...</td>\n",
       "      <td>0.000000</td>\n",
       "      <td>0.000000</td>\n",
       "      <td>0.000000</td>\n",
       "      <td>0.000000</td>\n",
       "      <td>0.000000</td>\n",
       "      <td>0.000000</td>\n",
       "      <td>0.000000</td>\n",
       "      <td>0.000000</td>\n",
       "      <td>0.000000</td>\n",
       "      <td>0.000000</td>\n",
       "    </tr>\n",
       "    <tr>\n",
       "      <th>50%</th>\n",
       "      <td>0.000000</td>\n",
       "      <td>0.176471</td>\n",
       "      <td>0.106074</td>\n",
       "      <td>0.222222</td>\n",
       "      <td>0.000000</td>\n",
       "      <td>0.000000</td>\n",
       "      <td>0.000000</td>\n",
       "      <td>0.000000</td>\n",
       "      <td>0.000000</td>\n",
       "      <td>0.000000</td>\n",
       "      <td>...</td>\n",
       "      <td>0.000000</td>\n",
       "      <td>0.000000</td>\n",
       "      <td>0.000000</td>\n",
       "      <td>0.000000</td>\n",
       "      <td>0.000000</td>\n",
       "      <td>0.000000</td>\n",
       "      <td>0.000000</td>\n",
       "      <td>0.000000</td>\n",
       "      <td>0.000000</td>\n",
       "      <td>0.000000</td>\n",
       "    </tr>\n",
       "    <tr>\n",
       "      <th>75%</th>\n",
       "      <td>0.000000</td>\n",
       "      <td>0.235294</td>\n",
       "      <td>0.402289</td>\n",
       "      <td>0.333333</td>\n",
       "      <td>1.000000</td>\n",
       "      <td>0.000000</td>\n",
       "      <td>0.000000</td>\n",
       "      <td>0.000000</td>\n",
       "      <td>0.000000</td>\n",
       "      <td>0.000000</td>\n",
       "      <td>...</td>\n",
       "      <td>0.000000</td>\n",
       "      <td>0.000000</td>\n",
       "      <td>0.000000</td>\n",
       "      <td>0.000000</td>\n",
       "      <td>0.000000</td>\n",
       "      <td>0.000000</td>\n",
       "      <td>0.000000</td>\n",
       "      <td>0.000000</td>\n",
       "      <td>0.000000</td>\n",
       "      <td>0.000000</td>\n",
       "    </tr>\n",
       "    <tr>\n",
       "      <th>max</th>\n",
       "      <td>1.000000</td>\n",
       "      <td>1.000000</td>\n",
       "      <td>1.000000</td>\n",
       "      <td>1.000000</td>\n",
       "      <td>1.000000</td>\n",
       "      <td>1.000000</td>\n",
       "      <td>1.000000</td>\n",
       "      <td>1.000000</td>\n",
       "      <td>1.000000</td>\n",
       "      <td>1.000000</td>\n",
       "      <td>...</td>\n",
       "      <td>1.000000</td>\n",
       "      <td>1.000000</td>\n",
       "      <td>1.000000</td>\n",
       "      <td>1.000000</td>\n",
       "      <td>1.000000</td>\n",
       "      <td>1.000000</td>\n",
       "      <td>1.000000</td>\n",
       "      <td>1.000000</td>\n",
       "      <td>1.000000</td>\n",
       "      <td>1.000000</td>\n",
       "    </tr>\n",
       "  </tbody>\n",
       "</table>\n",
       "<p>8 rows × 74 columns</p>\n",
       "</div>"
      ],
      "text/plain": [
       "       Do Not Email  TotalVisits  Total Time Spent on Website  \\\n",
       "count   7162.000000  7162.000000                  7162.000000   \n",
       "mean       0.077213     0.184585                     0.210864   \n",
       "std        0.266948     0.170534                     0.239799   \n",
       "min        0.000000     0.000000                     0.000000   \n",
       "25%        0.000000     0.058824                     0.002641   \n",
       "50%        0.000000     0.176471                     0.106074   \n",
       "75%        0.000000     0.235294                     0.402289   \n",
       "max        1.000000     1.000000                     1.000000   \n",
       "\n",
       "       Page Views Per Visit  A free copy of Mastering The Interview  \\\n",
       "count           7162.000000                             7162.000000   \n",
       "mean               0.250708                                0.314717   \n",
       "std                0.209488                                0.464435   \n",
       "min                0.000000                                0.000000   \n",
       "25%                0.111111                                0.000000   \n",
       "50%                0.222222                                0.000000   \n",
       "75%                0.333333                                1.000000   \n",
       "max                1.000000                                1.000000   \n",
       "\n",
       "       Last Activity_Approached upfront  Last Activity_Converted to Lead  \\\n",
       "count                       7162.000000                      7162.000000   \n",
       "mean                           0.000559                         0.048171   \n",
       "std                            0.023628                         0.214142   \n",
       "min                            0.000000                         0.000000   \n",
       "25%                            0.000000                         0.000000   \n",
       "50%                            0.000000                         0.000000   \n",
       "75%                            0.000000                         0.000000   \n",
       "max                            1.000000                         1.000000   \n",
       "\n",
       "       Last Activity_Email Bounced  Last Activity_Email Link Clicked  \\\n",
       "count                  7162.000000                       7162.000000   \n",
       "mean                      0.034069                          0.030159   \n",
       "std                       0.181418                          0.171037   \n",
       "min                       0.000000                          0.000000   \n",
       "25%                       0.000000                          0.000000   \n",
       "50%                       0.000000                          0.000000   \n",
       "75%                       0.000000                          0.000000   \n",
       "max                       1.000000                          1.000000   \n",
       "\n",
       "       Last Activity_Email Marked Spam  ...  Tags_Other_Tags  Tags_Ringing  \\\n",
       "count                      7162.000000  ...      7162.000000   7162.000000   \n",
       "mean                          0.000279  ...         0.016755      0.129712   \n",
       "std                           0.016710  ...         0.128361      0.336010   \n",
       "min                           0.000000  ...         0.000000      0.000000   \n",
       "25%                           0.000000  ...         0.000000      0.000000   \n",
       "50%                           0.000000  ...         0.000000      0.000000   \n",
       "75%                           0.000000  ...         0.000000      0.000000   \n",
       "max                           1.000000  ...         1.000000      1.000000   \n",
       "\n",
       "       Tags_Will revert after reading the email  Tags_invalid number  \\\n",
       "count                               7162.000000          7162.000000   \n",
       "mean                                   0.223122             0.009076   \n",
       "std                                    0.416369             0.094840   \n",
       "min                                    0.000000             0.000000   \n",
       "25%                                    0.000000             0.000000   \n",
       "50%                                    0.000000             0.000000   \n",
       "75%                                    0.000000             0.000000   \n",
       "max                                    1.000000             1.000000   \n",
       "\n",
       "       Tags_switched off  City_Other Cities  City_Other Cities of Maharashtra  \\\n",
       "count        7162.000000        7162.000000                       7162.000000   \n",
       "mean            0.027227           0.076096                          0.048590   \n",
       "std             0.162756           0.265170                          0.215024   \n",
       "min             0.000000           0.000000                          0.000000   \n",
       "25%             0.000000           0.000000                          0.000000   \n",
       "50%             0.000000           0.000000                          0.000000   \n",
       "75%             0.000000           0.000000                          0.000000   \n",
       "max             1.000000           1.000000                          1.000000   \n",
       "\n",
       "       City_Other Metro Cities  City_Thane & Outskirts  City_Tier II Cities  \n",
       "count              7162.000000             7162.000000          7162.000000  \n",
       "mean                  0.040352                0.080843             0.008238  \n",
       "std                   0.196797                0.272613             0.090395  \n",
       "min                   0.000000                0.000000             0.000000  \n",
       "25%                   0.000000                0.000000             0.000000  \n",
       "50%                   0.000000                0.000000             0.000000  \n",
       "75%                   0.000000                0.000000             0.000000  \n",
       "max                   1.000000                1.000000             1.000000  \n",
       "\n",
       "[8 rows x 74 columns]"
      ]
     },
     "execution_count": 98,
     "metadata": {},
     "output_type": "execute_result"
    }
   ],
   "source": [
    "xtrain.describe()"
   ]
  },
  {
   "cell_type": "code",
   "execution_count": 99,
   "id": "9acfeb05",
   "metadata": {},
   "outputs": [
    {
     "data": {
      "text/html": [
       "<div>\n",
       "<style scoped>\n",
       "    .dataframe tbody tr th:only-of-type {\n",
       "        vertical-align: middle;\n",
       "    }\n",
       "\n",
       "    .dataframe tbody tr th {\n",
       "        vertical-align: top;\n",
       "    }\n",
       "\n",
       "    .dataframe thead th {\n",
       "        text-align: right;\n",
       "    }\n",
       "</style>\n",
       "<table border=\"1\" class=\"dataframe\">\n",
       "  <thead>\n",
       "    <tr style=\"text-align: right;\">\n",
       "      <th></th>\n",
       "      <th>Do Not Email</th>\n",
       "      <th>TotalVisits</th>\n",
       "      <th>Total Time Spent on Website</th>\n",
       "      <th>Page Views Per Visit</th>\n",
       "      <th>A free copy of Mastering The Interview</th>\n",
       "      <th>Last Activity_Approached upfront</th>\n",
       "      <th>Last Activity_Converted to Lead</th>\n",
       "      <th>Last Activity_Email Bounced</th>\n",
       "      <th>Last Activity_Email Link Clicked</th>\n",
       "      <th>Last Activity_Email Marked Spam</th>\n",
       "      <th>...</th>\n",
       "      <th>Tags_Other_Tags</th>\n",
       "      <th>Tags_Ringing</th>\n",
       "      <th>Tags_Will revert after reading the email</th>\n",
       "      <th>Tags_invalid number</th>\n",
       "      <th>Tags_switched off</th>\n",
       "      <th>City_Other Cities</th>\n",
       "      <th>City_Other Cities of Maharashtra</th>\n",
       "      <th>City_Other Metro Cities</th>\n",
       "      <th>City_Thane &amp; Outskirts</th>\n",
       "      <th>City_Tier II Cities</th>\n",
       "    </tr>\n",
       "  </thead>\n",
       "  <tbody>\n",
       "    <tr>\n",
       "      <th>8609</th>\n",
       "      <td>0.0</td>\n",
       "      <td>0.470588</td>\n",
       "      <td>0.089349</td>\n",
       "      <td>0.888889</td>\n",
       "      <td>1.0</td>\n",
       "      <td>0</td>\n",
       "      <td>0</td>\n",
       "      <td>0</td>\n",
       "      <td>0</td>\n",
       "      <td>0</td>\n",
       "      <td>...</td>\n",
       "      <td>1</td>\n",
       "      <td>0</td>\n",
       "      <td>0</td>\n",
       "      <td>0</td>\n",
       "      <td>0</td>\n",
       "      <td>0</td>\n",
       "      <td>0</td>\n",
       "      <td>0</td>\n",
       "      <td>1</td>\n",
       "      <td>0</td>\n",
       "    </tr>\n",
       "    <tr>\n",
       "      <th>4355</th>\n",
       "      <td>0.0</td>\n",
       "      <td>0.000000</td>\n",
       "      <td>0.000000</td>\n",
       "      <td>0.000000</td>\n",
       "      <td>0.0</td>\n",
       "      <td>0</td>\n",
       "      <td>0</td>\n",
       "      <td>0</td>\n",
       "      <td>0</td>\n",
       "      <td>0</td>\n",
       "      <td>...</td>\n",
       "      <td>0</td>\n",
       "      <td>0</td>\n",
       "      <td>0</td>\n",
       "      <td>0</td>\n",
       "      <td>0</td>\n",
       "      <td>0</td>\n",
       "      <td>0</td>\n",
       "      <td>0</td>\n",
       "      <td>0</td>\n",
       "      <td>0</td>\n",
       "    </tr>\n",
       "    <tr>\n",
       "      <th>7570</th>\n",
       "      <td>0.0</td>\n",
       "      <td>0.235294</td>\n",
       "      <td>0.162852</td>\n",
       "      <td>0.444444</td>\n",
       "      <td>0.0</td>\n",
       "      <td>0</td>\n",
       "      <td>0</td>\n",
       "      <td>0</td>\n",
       "      <td>0</td>\n",
       "      <td>0</td>\n",
       "      <td>...</td>\n",
       "      <td>0</td>\n",
       "      <td>0</td>\n",
       "      <td>1</td>\n",
       "      <td>0</td>\n",
       "      <td>0</td>\n",
       "      <td>0</td>\n",
       "      <td>0</td>\n",
       "      <td>0</td>\n",
       "      <td>1</td>\n",
       "      <td>0</td>\n",
       "    </tr>\n",
       "    <tr>\n",
       "      <th>570</th>\n",
       "      <td>0.0</td>\n",
       "      <td>0.294118</td>\n",
       "      <td>0.180018</td>\n",
       "      <td>0.555556</td>\n",
       "      <td>0.0</td>\n",
       "      <td>0</td>\n",
       "      <td>0</td>\n",
       "      <td>0</td>\n",
       "      <td>0</td>\n",
       "      <td>0</td>\n",
       "      <td>...</td>\n",
       "      <td>0</td>\n",
       "      <td>0</td>\n",
       "      <td>0</td>\n",
       "      <td>0</td>\n",
       "      <td>0</td>\n",
       "      <td>0</td>\n",
       "      <td>0</td>\n",
       "      <td>0</td>\n",
       "      <td>0</td>\n",
       "      <td>0</td>\n",
       "    </tr>\n",
       "    <tr>\n",
       "      <th>447</th>\n",
       "      <td>0.0</td>\n",
       "      <td>0.000000</td>\n",
       "      <td>0.000000</td>\n",
       "      <td>0.000000</td>\n",
       "      <td>0.0</td>\n",
       "      <td>0</td>\n",
       "      <td>0</td>\n",
       "      <td>0</td>\n",
       "      <td>0</td>\n",
       "      <td>0</td>\n",
       "      <td>...</td>\n",
       "      <td>0</td>\n",
       "      <td>0</td>\n",
       "      <td>0</td>\n",
       "      <td>0</td>\n",
       "      <td>0</td>\n",
       "      <td>0</td>\n",
       "      <td>0</td>\n",
       "      <td>0</td>\n",
       "      <td>0</td>\n",
       "      <td>0</td>\n",
       "    </tr>\n",
       "    <tr>\n",
       "      <th>...</th>\n",
       "      <td>...</td>\n",
       "      <td>...</td>\n",
       "      <td>...</td>\n",
       "      <td>...</td>\n",
       "      <td>...</td>\n",
       "      <td>...</td>\n",
       "      <td>...</td>\n",
       "      <td>...</td>\n",
       "      <td>...</td>\n",
       "      <td>...</td>\n",
       "      <td>...</td>\n",
       "      <td>...</td>\n",
       "      <td>...</td>\n",
       "      <td>...</td>\n",
       "      <td>...</td>\n",
       "      <td>...</td>\n",
       "      <td>...</td>\n",
       "      <td>...</td>\n",
       "      <td>...</td>\n",
       "      <td>...</td>\n",
       "      <td>...</td>\n",
       "    </tr>\n",
       "    <tr>\n",
       "      <th>6112</th>\n",
       "      <td>0.0</td>\n",
       "      <td>0.176471</td>\n",
       "      <td>0.321303</td>\n",
       "      <td>0.333333</td>\n",
       "      <td>1.0</td>\n",
       "      <td>0</td>\n",
       "      <td>0</td>\n",
       "      <td>0</td>\n",
       "      <td>0</td>\n",
       "      <td>0</td>\n",
       "      <td>...</td>\n",
       "      <td>0</td>\n",
       "      <td>0</td>\n",
       "      <td>1</td>\n",
       "      <td>0</td>\n",
       "      <td>0</td>\n",
       "      <td>0</td>\n",
       "      <td>0</td>\n",
       "      <td>0</td>\n",
       "      <td>1</td>\n",
       "      <td>0</td>\n",
       "    </tr>\n",
       "    <tr>\n",
       "      <th>4057</th>\n",
       "      <td>0.0</td>\n",
       "      <td>0.000000</td>\n",
       "      <td>0.000000</td>\n",
       "      <td>0.000000</td>\n",
       "      <td>0.0</td>\n",
       "      <td>0</td>\n",
       "      <td>0</td>\n",
       "      <td>0</td>\n",
       "      <td>0</td>\n",
       "      <td>0</td>\n",
       "      <td>...</td>\n",
       "      <td>0</td>\n",
       "      <td>0</td>\n",
       "      <td>0</td>\n",
       "      <td>0</td>\n",
       "      <td>0</td>\n",
       "      <td>0</td>\n",
       "      <td>0</td>\n",
       "      <td>0</td>\n",
       "      <td>1</td>\n",
       "      <td>0</td>\n",
       "    </tr>\n",
       "    <tr>\n",
       "      <th>7301</th>\n",
       "      <td>0.0</td>\n",
       "      <td>0.411765</td>\n",
       "      <td>0.186180</td>\n",
       "      <td>0.777778</td>\n",
       "      <td>1.0</td>\n",
       "      <td>0</td>\n",
       "      <td>0</td>\n",
       "      <td>0</td>\n",
       "      <td>0</td>\n",
       "      <td>0</td>\n",
       "      <td>...</td>\n",
       "      <td>0</td>\n",
       "      <td>1</td>\n",
       "      <td>0</td>\n",
       "      <td>0</td>\n",
       "      <td>0</td>\n",
       "      <td>0</td>\n",
       "      <td>0</td>\n",
       "      <td>0</td>\n",
       "      <td>0</td>\n",
       "      <td>0</td>\n",
       "    </tr>\n",
       "    <tr>\n",
       "      <th>7635</th>\n",
       "      <td>1.0</td>\n",
       "      <td>0.058824</td>\n",
       "      <td>0.151849</td>\n",
       "      <td>0.111111</td>\n",
       "      <td>1.0</td>\n",
       "      <td>0</td>\n",
       "      <td>0</td>\n",
       "      <td>1</td>\n",
       "      <td>0</td>\n",
       "      <td>0</td>\n",
       "      <td>...</td>\n",
       "      <td>0</td>\n",
       "      <td>0</td>\n",
       "      <td>0</td>\n",
       "      <td>0</td>\n",
       "      <td>0</td>\n",
       "      <td>0</td>\n",
       "      <td>0</td>\n",
       "      <td>0</td>\n",
       "      <td>1</td>\n",
       "      <td>0</td>\n",
       "    </tr>\n",
       "    <tr>\n",
       "      <th>4516</th>\n",
       "      <td>0.0</td>\n",
       "      <td>0.235294</td>\n",
       "      <td>0.090229</td>\n",
       "      <td>0.444444</td>\n",
       "      <td>0.0</td>\n",
       "      <td>0</td>\n",
       "      <td>0</td>\n",
       "      <td>0</td>\n",
       "      <td>0</td>\n",
       "      <td>0</td>\n",
       "      <td>...</td>\n",
       "      <td>0</td>\n",
       "      <td>0</td>\n",
       "      <td>0</td>\n",
       "      <td>0</td>\n",
       "      <td>0</td>\n",
       "      <td>1</td>\n",
       "      <td>0</td>\n",
       "      <td>0</td>\n",
       "      <td>0</td>\n",
       "      <td>0</td>\n",
       "    </tr>\n",
       "  </tbody>\n",
       "</table>\n",
       "<p>7162 rows × 74 columns</p>\n",
       "</div>"
      ],
      "text/plain": [
       "      Do Not Email  TotalVisits  Total Time Spent on Website  \\\n",
       "8609           0.0     0.470588                     0.089349   \n",
       "4355           0.0     0.000000                     0.000000   \n",
       "7570           0.0     0.235294                     0.162852   \n",
       "570            0.0     0.294118                     0.180018   \n",
       "447            0.0     0.000000                     0.000000   \n",
       "...            ...          ...                          ...   \n",
       "6112           0.0     0.176471                     0.321303   \n",
       "4057           0.0     0.000000                     0.000000   \n",
       "7301           0.0     0.411765                     0.186180   \n",
       "7635           1.0     0.058824                     0.151849   \n",
       "4516           0.0     0.235294                     0.090229   \n",
       "\n",
       "      Page Views Per Visit  A free copy of Mastering The Interview  \\\n",
       "8609              0.888889                                     1.0   \n",
       "4355              0.000000                                     0.0   \n",
       "7570              0.444444                                     0.0   \n",
       "570               0.555556                                     0.0   \n",
       "447               0.000000                                     0.0   \n",
       "...                    ...                                     ...   \n",
       "6112              0.333333                                     1.0   \n",
       "4057              0.000000                                     0.0   \n",
       "7301              0.777778                                     1.0   \n",
       "7635              0.111111                                     1.0   \n",
       "4516              0.444444                                     0.0   \n",
       "\n",
       "      Last Activity_Approached upfront  Last Activity_Converted to Lead  \\\n",
       "8609                                 0                                0   \n",
       "4355                                 0                                0   \n",
       "7570                                 0                                0   \n",
       "570                                  0                                0   \n",
       "447                                  0                                0   \n",
       "...                                ...                              ...   \n",
       "6112                                 0                                0   \n",
       "4057                                 0                                0   \n",
       "7301                                 0                                0   \n",
       "7635                                 0                                0   \n",
       "4516                                 0                                0   \n",
       "\n",
       "      Last Activity_Email Bounced  Last Activity_Email Link Clicked  \\\n",
       "8609                            0                                 0   \n",
       "4355                            0                                 0   \n",
       "7570                            0                                 0   \n",
       "570                             0                                 0   \n",
       "447                             0                                 0   \n",
       "...                           ...                               ...   \n",
       "6112                            0                                 0   \n",
       "4057                            0                                 0   \n",
       "7301                            0                                 0   \n",
       "7635                            1                                 0   \n",
       "4516                            0                                 0   \n",
       "\n",
       "      Last Activity_Email Marked Spam  ...  Tags_Other_Tags  Tags_Ringing  \\\n",
       "8609                                0  ...                1             0   \n",
       "4355                                0  ...                0             0   \n",
       "7570                                0  ...                0             0   \n",
       "570                                 0  ...                0             0   \n",
       "447                                 0  ...                0             0   \n",
       "...                               ...  ...              ...           ...   \n",
       "6112                                0  ...                0             0   \n",
       "4057                                0  ...                0             0   \n",
       "7301                                0  ...                0             1   \n",
       "7635                                0  ...                0             0   \n",
       "4516                                0  ...                0             0   \n",
       "\n",
       "      Tags_Will revert after reading the email  Tags_invalid number  \\\n",
       "8609                                         0                    0   \n",
       "4355                                         0                    0   \n",
       "7570                                         1                    0   \n",
       "570                                          0                    0   \n",
       "447                                          0                    0   \n",
       "...                                        ...                  ...   \n",
       "6112                                         1                    0   \n",
       "4057                                         0                    0   \n",
       "7301                                         0                    0   \n",
       "7635                                         0                    0   \n",
       "4516                                         0                    0   \n",
       "\n",
       "      Tags_switched off  City_Other Cities  City_Other Cities of Maharashtra  \\\n",
       "8609                  0                  0                                 0   \n",
       "4355                  0                  0                                 0   \n",
       "7570                  0                  0                                 0   \n",
       "570                   0                  0                                 0   \n",
       "447                   0                  0                                 0   \n",
       "...                 ...                ...                               ...   \n",
       "6112                  0                  0                                 0   \n",
       "4057                  0                  0                                 0   \n",
       "7301                  0                  0                                 0   \n",
       "7635                  0                  0                                 0   \n",
       "4516                  0                  1                                 0   \n",
       "\n",
       "      City_Other Metro Cities  City_Thane & Outskirts  City_Tier II Cities  \n",
       "8609                        0                       1                    0  \n",
       "4355                        0                       0                    0  \n",
       "7570                        0                       1                    0  \n",
       "570                         0                       0                    0  \n",
       "447                         0                       0                    0  \n",
       "...                       ...                     ...                  ...  \n",
       "6112                        0                       1                    0  \n",
       "4057                        0                       1                    0  \n",
       "7301                        0                       0                    0  \n",
       "7635                        0                       1                    0  \n",
       "4516                        0                       0                    0  \n",
       "\n",
       "[7162 rows x 74 columns]"
      ]
     },
     "execution_count": 99,
     "metadata": {},
     "output_type": "execute_result"
    }
   ],
   "source": [
    "xtrain"
   ]
  },
  {
   "cell_type": "markdown",
   "id": "0080f317",
   "metadata": {},
   "source": [
    "### Training the model"
   ]
  },
  {
   "cell_type": "markdown",
   "id": "203772ff",
   "metadata": {},
   "source": [
    "we will only use essential columns for our final model, in the process eliminate will some columns."
   ]
  },
  {
   "cell_type": "code",
   "execution_count": 100,
   "id": "854b2d4d",
   "metadata": {},
   "outputs": [],
   "source": [
    "## create function for repetative tasks\n",
    "\n",
    "def create_model(cols):\n",
    "    xtrain_sm = sm.add_constant(xtrain[cols])\n",
    "    lr = sm.GLM(ytrain, xtrain_sm, family = sm.families.Binomial())\n",
    "    lr_model = lr.fit()\n",
    "    print(lr_model.summary())\n",
    "    return lr_model\n",
    "\n",
    "def vifs(cols):\n",
    "    df = xtrain[cols]\n",
    "    vif = pd.DataFrame()\n",
    "    vif['Features'] = df.columns\n",
    "    vif['VIF'] = [variance_inflation_factor(df.values, i) for i in range(df.shape[1])]\n",
    "    vif['VIF'] = round(vif['VIF'],2)\n",
    "    print(vif.sort_values(by='VIF',ascending=False))"
   ]
  },
  {
   "cell_type": "markdown",
   "id": "b4ca9248",
   "metadata": {},
   "source": [
    "### Use RFE to get initial set of columns (Automated + Manual)"
   ]
  },
  {
   "cell_type": "code",
   "execution_count": 101,
   "id": "f7b143fd",
   "metadata": {},
   "outputs": [
    {
     "data": {
      "text/plain": [
       "LogisticRegression()"
      ]
     },
     "execution_count": 101,
     "metadata": {},
     "output_type": "execute_result"
    }
   ],
   "source": [
    "log_reg_model = LogisticRegression()\n",
    "log_reg_model.fit(xtrain,ytrain)"
   ]
  },
  {
   "cell_type": "markdown",
   "id": "e61dfc1f",
   "metadata": {},
   "source": [
    "we will select initial 15 set of columns"
   ]
  },
  {
   "cell_type": "code",
   "execution_count": 102,
   "id": "4ed6b9df",
   "metadata": {},
   "outputs": [
    {
     "data": {
      "text/plain": [
       "RFE(estimator=LogisticRegression(), n_features_to_select=15)"
      ]
     },
     "execution_count": 102,
     "metadata": {},
     "output_type": "execute_result"
    }
   ],
   "source": [
    "rfe = RFE(log_reg_model,n_features_to_select=15, step=1)\n",
    "rfe.fit(xtrain,ytrain)"
   ]
  },
  {
   "cell_type": "code",
   "execution_count": 103,
   "id": "98bf865e",
   "metadata": {},
   "outputs": [
    {
     "data": {
      "text/plain": [
       "array([False, False,  True,  True, False, False, False, False, False,\n",
       "       False, False, False, False, False, False, False, False,  True,\n",
       "       False, False, False, False, False, False,  True, False, False,\n",
       "       False, False, False, False, False, False, False, False, False,\n",
       "       False, False, False, False, False, False, False, False, False,\n",
       "       False, False, False, False, False, False, False, False, False,\n",
       "        True,  True, False,  True,  True, False, False,  True,  True,\n",
       "        True, False,  True,  True,  True,  True, False, False, False,\n",
       "       False, False])"
      ]
     },
     "execution_count": 103,
     "metadata": {},
     "output_type": "execute_result"
    }
   ],
   "source": [
    "rfe.support_"
   ]
  },
  {
   "cell_type": "code",
   "execution_count": 104,
   "id": "19161e75",
   "metadata": {
    "scrolled": true
   },
   "outputs": [
    {
     "data": {
      "text/plain": [
       "[('Do Not Email', False, 7),\n",
       " ('TotalVisits', False, 11),\n",
       " ('Total Time Spent on Website', True, 1),\n",
       " ('Page Views Per Visit', True, 1),\n",
       " ('A free copy of Mastering The Interview', False, 38),\n",
       " ('Last Activity_Approached upfront', False, 42),\n",
       " ('Last Activity_Converted to Lead', False, 20),\n",
       " ('Last Activity_Email Bounced', False, 19),\n",
       " ('Last Activity_Email Link Clicked', False, 35),\n",
       " ('Last Activity_Email Marked Spam', False, 51),\n",
       " ('Last Activity_Email Opened', False, 44),\n",
       " ('Last Activity_Email Received', False, 55),\n",
       " ('Last Activity_Form Submitted on Website', False, 37),\n",
       " ('Last Activity_Had a Phone Conversation', False, 52),\n",
       " ('Last Activity_Olark Chat Conversation', False, 17),\n",
       " ('Last Activity_Page Visited on Website', False, 21),\n",
       " ('Last Activity_Resubscribed to emails', False, 53),\n",
       " ('Last Activity_SMS Sent', True, 1),\n",
       " ('Last Activity_Unreachable', False, 43),\n",
       " ('Last Activity_Unsubscribed', False, 28),\n",
       " ('Last Activity_View in browser link Clicked', False, 50),\n",
       " ('Last Activity_Visited Booth in Tradeshow', False, 60),\n",
       " ('Last Notable Activity_Email Link Clicked', False, 6),\n",
       " ('Last Notable Activity_Email Opened', False, 48),\n",
       " ('Last Notable Activity_Modified', True, 1),\n",
       " ('Last Notable Activity_Olark Chat Conversation', False, 4),\n",
       " ('Last Notable Activity_Page Visited on Website', False, 47),\n",
       " ('Last Notable Activity_SMS Sent', False, 8),\n",
       " ('Specialization_Banking, Investment And Insurance', False, 45),\n",
       " ('Specialization_Business Administration', False, 32),\n",
       " ('Specialization_E-Business', False, 49),\n",
       " ('Specialization_E-COMMERCE', False, 25),\n",
       " ('Specialization_International Business', False, 41),\n",
       " ('Specialization_Management_Studies', False, 54),\n",
       " ('Specialization_Media and Advertising', False, 56),\n",
       " ('Specialization_Rural and Agribusiness', False, 58),\n",
       " ('Specialization_Services Excellence', False, 31),\n",
       " ('Specialization_Travel and Tourism', False, 39),\n",
       " ('What is your current occupation_Housewife', False, 36),\n",
       " ('What is your current occupation_Other', False, 27),\n",
       " ('What is your current occupation_Student', False, 24),\n",
       " ('What is your current occupation_Unemployed', False, 23),\n",
       " ('What is your current occupation_Working Professional', False, 10),\n",
       " ('Lead Origin_Landing Page Submission', False, 18),\n",
       " ('Lead Origin_Lead Add Form', False, 2),\n",
       " ('Lead Origin_Lead Import', False, 33),\n",
       " ('Lead Source_Direct Traffic', False, 12),\n",
       " ('Lead Source_Google', False, 14),\n",
       " ('Lead Source_Live Chat', False, 59),\n",
       " ('Lead Source_Olark Chat', False, 34),\n",
       " ('Lead Source_Organic Search', False, 13),\n",
       " ('Lead Source_Reference', False, 9),\n",
       " ('Lead Source_Referral Sites', False, 16),\n",
       " ('Lead Source_Social Media', False, 26),\n",
       " ('Lead Source_Welingak Website', True, 1),\n",
       " ('Tags_Already a student', True, 1),\n",
       " ('Tags_Busy', False, 15),\n",
       " ('Tags_Closed by Horizzon', True, 1),\n",
       " ('Tags_Diploma holder (Not Eligible)', True, 1),\n",
       " ('Tags_Graduation in progress', False, 22),\n",
       " ('Tags_Interested  in full time MBA', False, 5),\n",
       " ('Tags_Interested in other courses', True, 1),\n",
       " ('Tags_Lost to EINS', True, 1),\n",
       " ('Tags_Not doing further education', True, 1),\n",
       " ('Tags_Other_Tags', False, 3),\n",
       " ('Tags_Ringing', True, 1),\n",
       " ('Tags_Will revert after reading the email', True, 1),\n",
       " ('Tags_invalid number', True, 1),\n",
       " ('Tags_switched off', True, 1),\n",
       " ('City_Other Cities', False, 40),\n",
       " ('City_Other Cities of Maharashtra', False, 57),\n",
       " ('City_Other Metro Cities', False, 30),\n",
       " ('City_Thane & Outskirts', False, 46),\n",
       " ('City_Tier II Cities', False, 29)]"
      ]
     },
     "execution_count": 104,
     "metadata": {},
     "output_type": "execute_result"
    }
   ],
   "source": [
    "list(zip(xtrain.columns,rfe.support_,rfe.ranking_))"
   ]
  },
  {
   "cell_type": "code",
   "execution_count": 105,
   "id": "522e3352",
   "metadata": {},
   "outputs": [
    {
     "data": {
      "text/plain": [
       "Index(['Total Time Spent on Website', 'Page Views Per Visit',\n",
       "       'Last Activity_SMS Sent', 'Last Notable Activity_Modified',\n",
       "       'Lead Source_Welingak Website', 'Tags_Already a student',\n",
       "       'Tags_Closed by Horizzon', 'Tags_Diploma holder (Not Eligible)',\n",
       "       'Tags_Interested in other courses', 'Tags_Lost to EINS',\n",
       "       'Tags_Not doing further education', 'Tags_Ringing',\n",
       "       'Tags_Will revert after reading the email', 'Tags_invalid number',\n",
       "       'Tags_switched off'],\n",
       "      dtype='object')"
      ]
     },
     "execution_count": 105,
     "metadata": {},
     "output_type": "execute_result"
    }
   ],
   "source": [
    "## columns selected by RFE\n",
    "xtrain.columns[rfe.support_]"
   ]
  },
  {
   "cell_type": "code",
   "execution_count": 106,
   "id": "ebba8f39",
   "metadata": {},
   "outputs": [],
   "source": [
    "xtrain_after_rfe = xtrain[xtrain.columns[rfe.support_]]"
   ]
  },
  {
   "cell_type": "code",
   "execution_count": 107,
   "id": "b2fa5e47",
   "metadata": {},
   "outputs": [
    {
     "data": {
      "text/plain": [
       "(7162, 15)"
      ]
     },
     "execution_count": 107,
     "metadata": {},
     "output_type": "execute_result"
    }
   ],
   "source": [
    "## shape after RFE\n",
    "\n",
    "xtrain_after_rfe.shape"
   ]
  },
  {
   "cell_type": "code",
   "execution_count": 108,
   "id": "09be71f8",
   "metadata": {},
   "outputs": [
    {
     "data": {
      "text/plain": [
       "((7162, 15), (7162,))"
      ]
     },
     "execution_count": 108,
     "metadata": {},
     "output_type": "execute_result"
    }
   ],
   "source": [
    "xtrain_after_rfe.shape , ytrain.shape"
   ]
  },
  {
   "cell_type": "code",
   "execution_count": 109,
   "id": "e741e6c1",
   "metadata": {},
   "outputs": [
    {
     "data": {
      "text/plain": [
       "<AxesSubplot:>"
      ]
     },
     "execution_count": 109,
     "metadata": {},
     "output_type": "execute_result"
    },
    {
     "data": {
      "image/png": "[encoded data removed]",
      "text/plain": [
       "<Figure size 1080x720 with 2 Axes>"
      ]
     },
     "metadata": {
      "needs_background": "light"
     },
     "output_type": "display_data"
    }
   ],
   "source": [
    "plt.figure(figsize = (15,10))\n",
    "sns.heatmap(xtrain_after_rfe.corr(),cmap='YlGnBu', annot=True)"
   ]
  },
  {
   "cell_type": "markdown",
   "id": "2e18ffdc",
   "metadata": {},
   "source": [
    "### Build model"
   ]
  },
  {
   "cell_type": "markdown",
   "id": "8c1ffb74",
   "metadata": {},
   "source": [
    "#### Model 1"
   ]
  },
  {
   "cell_type": "code",
   "execution_count": 110,
   "id": "16c74fbe",
   "metadata": {},
   "outputs": [
    {
     "name": "stdout",
     "output_type": "stream",
     "text": [
      "                 Generalized Linear Model Regression Results                  \n",
      "==============================================================================\n",
      "Dep. Variable:              Converted   No. Observations:                 7162\n",
      "Model:                            GLM   Df Residuals:                     7146\n",
      "Model Family:                Binomial   Df Model:                           15\n",
      "Link Function:                  Logit   Scale:                          1.0000\n",
      "Method:                          IRLS   Log-Likelihood:                -1448.7\n",
      "Date:                Tue, 24 Jan 2023   Deviance:                       2897.4\n",
      "Time:                        18:39:40   Pearson chi2:                 9.82e+03\n",
      "No. Iterations:                    24   Pseudo R-squ. (CS):             0.6025\n",
      "Covariance Type:            nonrobust                                         \n",
      "============================================================================================================\n",
      "                                               coef    std err          z      P>|z|      [0.025      0.975]\n",
      "------------------------------------------------------------------------------------------------------------\n",
      "const                                       -1.6929      0.093    -18.173      0.000      -1.876      -1.510\n",
      "Total Time Spent on Website                  3.8268      0.219     17.511      0.000       3.398       4.255\n",
      "Page Views Per Visit                        -2.2031      0.270     -8.146      0.000      -2.733      -1.673\n",
      "Last Activity_SMS Sent                       2.0372      0.105     19.320      0.000       1.831       2.244\n",
      "Last Notable Activity_Modified              -1.7399      0.117    -14.850      0.000      -1.970      -1.510\n",
      "Lead Source_Welingak Website                 5.2998      1.024      5.176      0.000       3.293       7.307\n",
      "Tags_Already a student                      -4.2739      1.008     -4.239      0.000      -6.250      -2.298\n",
      "Tags_Closed by Horizzon                      8.0081      1.012      7.916      0.000       6.025       9.991\n",
      "Tags_Diploma holder (Not Eligible)         -23.8366   2.68e+04     -0.001      0.999   -5.26e+04    5.25e+04\n",
      "Tags_Interested in other courses            -1.9339      0.396     -4.886      0.000      -2.710      -1.158\n",
      "Tags_Lost to EINS                            5.7167      0.530     10.789      0.000       4.678       6.755\n",
      "Tags_Not doing further education           -23.4957   1.91e+04     -0.001      0.999   -3.75e+04    3.74e+04\n",
      "Tags_Ringing                                -3.1893      0.217    -14.728      0.000      -3.614      -2.765\n",
      "Tags_Will revert after reading the email     4.7784      0.174     27.466      0.000       4.437       5.119\n",
      "Tags_invalid number                        -25.3774   2.28e+04     -0.001      0.999   -4.47e+04    4.46e+04\n",
      "Tags_switched off                           -3.7151      0.530     -7.016      0.000      -4.753      -2.677\n",
      "============================================================================================================\n",
      "                                    Features   VIF\n",
      "1                       Page Views Per Visit  2.41\n",
      "0                Total Time Spent on Website  2.17\n",
      "12  Tags_Will revert after reading the email  1.57\n",
      "2                     Last Activity_SMS Sent  1.54\n",
      "3             Last Notable Activity_Modified  1.39\n",
      "11                              Tags_Ringing  1.24\n",
      "8           Tags_Interested in other courses  1.14\n",
      "6                    Tags_Closed by Horizzon  1.08\n",
      "5                     Tags_Already a student  1.06\n",
      "9                          Tags_Lost to EINS  1.06\n",
      "14                         Tags_switched off  1.06\n",
      "4               Lead Source_Welingak Website  1.04\n",
      "10          Tags_Not doing further education  1.03\n",
      "13                       Tags_invalid number  1.02\n",
      "7         Tags_Diploma holder (Not Eligible)  1.01\n"
     ]
    }
   ],
   "source": [
    "cols = xtrain.columns[rfe.support_]\n",
    "\n",
    "model1 = create_model(cols)\n",
    "vifs(cols)"
   ]
  },
  {
   "cell_type": "markdown",
   "id": "e89d1640",
   "metadata": {},
   "source": [
    "Columns 'Tags_Diploma holder (Not Eligible)', 'Tags_invalid number', 'Tags_Not doing further education' can be dropped as they are high p-value"
   ]
  },
  {
   "cell_type": "code",
   "execution_count": 111,
   "id": "c4f99c4c",
   "metadata": {},
   "outputs": [],
   "source": [
    "cols = cols.drop(['Tags_Diploma holder (Not Eligible)', 'Tags_invalid number', 'Tags_Not doing further education'],1)"
   ]
  },
  {
   "cell_type": "markdown",
   "id": "b5865eeb",
   "metadata": {},
   "source": [
    "#### Model 2"
   ]
  },
  {
   "cell_type": "code",
   "execution_count": 112,
   "id": "fc47c1fd",
   "metadata": {
    "scrolled": false
   },
   "outputs": [
    {
     "name": "stdout",
     "output_type": "stream",
     "text": [
      "                 Generalized Linear Model Regression Results                  \n",
      "==============================================================================\n",
      "Dep. Variable:              Converted   No. Observations:                 7162\n",
      "Model:                            GLM   Df Residuals:                     7149\n",
      "Model Family:                Binomial   Df Model:                           12\n",
      "Link Function:                  Logit   Scale:                          1.0000\n",
      "Method:                          IRLS   Log-Likelihood:                -1493.4\n",
      "Date:                Tue, 24 Jan 2023   Deviance:                       2986.8\n",
      "Time:                        18:39:41   Pearson chi2:                 9.91e+03\n",
      "No. Iterations:                     9   Pseudo R-squ. (CS):             0.5975\n",
      "Covariance Type:            nonrobust                                         \n",
      "============================================================================================================\n",
      "                                               coef    std err          z      P>|z|      [0.025      0.975]\n",
      "------------------------------------------------------------------------------------------------------------\n",
      "const                                       -1.7794      0.093    -19.170      0.000      -1.961      -1.598\n",
      "Total Time Spent on Website                  3.8013      0.214     17.765      0.000       3.382       4.221\n",
      "Page Views Per Visit                        -2.2269      0.267     -8.343      0.000      -2.750      -1.704\n",
      "Last Activity_SMS Sent                       2.0328      0.103     19.646      0.000       1.830       2.236\n",
      "Last Notable Activity_Modified              -1.7185      0.116    -14.822      0.000      -1.946      -1.491\n",
      "Lead Source_Welingak Website                 5.3819      1.024      5.257      0.000       3.375       7.388\n",
      "Tags_Already a student                      -4.1755      1.008     -4.142      0.000      -6.151      -2.200\n",
      "Tags_Closed by Horizzon                      8.0833      1.012      7.991      0.000       6.101      10.066\n",
      "Tags_Interested in other courses            -1.8394      0.395     -4.658      0.000      -2.613      -1.065\n",
      "Tags_Lost to EINS                            5.7937      0.529     10.943      0.000       4.756       6.831\n",
      "Tags_Ringing                                -3.0845      0.216    -14.309      0.000      -3.507      -2.662\n",
      "Tags_Will revert after reading the email     4.8676      0.173     28.056      0.000       4.528       5.208\n",
      "Tags_switched off                           -3.6098      0.529     -6.825      0.000      -4.646      -2.573\n",
      "============================================================================================================\n",
      "                                    Features   VIF\n",
      "1                       Page Views Per Visit  2.38\n",
      "0                Total Time Spent on Website  2.17\n",
      "10  Tags_Will revert after reading the email  1.56\n",
      "2                     Last Activity_SMS Sent  1.54\n",
      "3             Last Notable Activity_Modified  1.37\n",
      "9                               Tags_Ringing  1.23\n",
      "7           Tags_Interested in other courses  1.14\n",
      "6                    Tags_Closed by Horizzon  1.07\n",
      "5                     Tags_Already a student  1.06\n",
      "8                          Tags_Lost to EINS  1.05\n",
      "11                         Tags_switched off  1.05\n",
      "4               Lead Source_Welingak Website  1.04\n"
     ]
    }
   ],
   "source": [
    "model2 = create_model(cols)\n",
    "vifs(cols)"
   ]
  },
  {
   "cell_type": "markdown",
   "id": "30f69764",
   "metadata": {},
   "source": [
    "Now these set of columns and model 2 can be considered as final model as the p-values of all independent variables are almost zero and no high VIF variables or multi-colinearity."
   ]
  },
  {
   "cell_type": "markdown",
   "id": "7f6fa1f8",
   "metadata": {},
   "source": [
    "### Final Model"
   ]
  },
  {
   "cell_type": "code",
   "execution_count": 113,
   "id": "52a7f3d8",
   "metadata": {},
   "outputs": [
    {
     "name": "stdout",
     "output_type": "stream",
     "text": [
      "[-1.72770564] [[ 3.4727506  -1.9874782   1.92726752 -1.5687138   3.65839888 -2.80832355\n",
      "   5.90317178 -1.64812582  4.76300151 -2.9042506   4.64641271 -2.92598081]]\n"
     ]
    }
   ],
   "source": [
    "## final set of columns\n",
    "\n",
    "final_cols = cols\n",
    "\n",
    "log_reg_final = LogisticRegression()\n",
    "log_reg_final.fit(xtrain[final_cols],ytrain)\n",
    "\n",
    "print(log_reg_final.intercept_,log_reg_final.coef_)"
   ]
  },
  {
   "cell_type": "markdown",
   "id": "d3a72967",
   "metadata": {},
   "source": [
    "### Evaluation"
   ]
  },
  {
   "cell_type": "code",
   "execution_count": 114,
   "id": "7fbd8f81",
   "metadata": {},
   "outputs": [],
   "source": [
    "ypred = log_reg_final.predict_proba(xtrain[cols])"
   ]
  },
  {
   "cell_type": "code",
   "execution_count": 115,
   "id": "62111cbf",
   "metadata": {},
   "outputs": [],
   "source": [
    "pred_final = pd.DataFrame({'Actual_Converted':ytrain,'Pred_Converted_Prob':ypred[:,1]})"
   ]
  },
  {
   "cell_type": "code",
   "execution_count": 116,
   "id": "6cbae964",
   "metadata": {},
   "outputs": [],
   "source": [
    "pred_final['Pred_Converted'] = pred_final.Pred_Converted_Prob.map(lambda x: 1 if x > 0.5 else 0)"
   ]
  },
  {
   "cell_type": "code",
   "execution_count": 117,
   "id": "7a66f0a5",
   "metadata": {},
   "outputs": [
    {
     "data": {
      "text/html": [
       "<div>\n",
       "<style scoped>\n",
       "    .dataframe tbody tr th:only-of-type {\n",
       "        vertical-align: middle;\n",
       "    }\n",
       "\n",
       "    .dataframe tbody tr th {\n",
       "        vertical-align: top;\n",
       "    }\n",
       "\n",
       "    .dataframe thead th {\n",
       "        text-align: right;\n",
       "    }\n",
       "</style>\n",
       "<table border=\"1\" class=\"dataframe\">\n",
       "  <thead>\n",
       "    <tr style=\"text-align: right;\">\n",
       "      <th></th>\n",
       "      <th>Actual_Converted</th>\n",
       "      <th>Pred_Converted_Prob</th>\n",
       "      <th>Pred_Converted</th>\n",
       "    </tr>\n",
       "  </thead>\n",
       "  <tbody>\n",
       "    <tr>\n",
       "      <th>8609</th>\n",
       "      <td>0</td>\n",
       "      <td>0.039770</td>\n",
       "      <td>0</td>\n",
       "    </tr>\n",
       "    <tr>\n",
       "      <th>4355</th>\n",
       "      <td>0</td>\n",
       "      <td>0.150881</td>\n",
       "      <td>0</td>\n",
       "    </tr>\n",
       "    <tr>\n",
       "      <th>7570</th>\n",
       "      <td>1</td>\n",
       "      <td>0.989315</td>\n",
       "      <td>1</td>\n",
       "    </tr>\n",
       "    <tr>\n",
       "      <th>570</th>\n",
       "      <td>0</td>\n",
       "      <td>0.099150</td>\n",
       "      <td>0</td>\n",
       "    </tr>\n",
       "    <tr>\n",
       "      <th>447</th>\n",
       "      <td>1</td>\n",
       "      <td>0.907983</td>\n",
       "      <td>1</td>\n",
       "    </tr>\n",
       "    <tr>\n",
       "      <th>...</th>\n",
       "      <td>...</td>\n",
       "      <td>...</td>\n",
       "      <td>...</td>\n",
       "    </tr>\n",
       "    <tr>\n",
       "      <th>6112</th>\n",
       "      <td>1</td>\n",
       "      <td>0.966819</td>\n",
       "      <td>1</td>\n",
       "    </tr>\n",
       "    <tr>\n",
       "      <th>4057</th>\n",
       "      <td>1</td>\n",
       "      <td>0.931295</td>\n",
       "      <td>1</td>\n",
       "    </tr>\n",
       "    <tr>\n",
       "      <th>7301</th>\n",
       "      <td>0</td>\n",
       "      <td>0.026495</td>\n",
       "      <td>0</td>\n",
       "    </tr>\n",
       "    <tr>\n",
       "      <th>7635</th>\n",
       "      <td>0</td>\n",
       "      <td>0.003024</td>\n",
       "      <td>0</td>\n",
       "    </tr>\n",
       "    <tr>\n",
       "      <th>4516</th>\n",
       "      <td>0</td>\n",
       "      <td>0.125743</td>\n",
       "      <td>0</td>\n",
       "    </tr>\n",
       "  </tbody>\n",
       "</table>\n",
       "<p>7162 rows × 3 columns</p>\n",
       "</div>"
      ],
      "text/plain": [
       "      Actual_Converted  Pred_Converted_Prob  Pred_Converted\n",
       "8609                 0             0.039770               0\n",
       "4355                 0             0.150881               0\n",
       "7570                 1             0.989315               1\n",
       "570                  0             0.099150               0\n",
       "447                  1             0.907983               1\n",
       "...                ...                  ...             ...\n",
       "6112                 1             0.966819               1\n",
       "4057                 1             0.931295               1\n",
       "7301                 0             0.026495               0\n",
       "7635                 0             0.003024               0\n",
       "4516                 0             0.125743               0\n",
       "\n",
       "[7162 rows x 3 columns]"
      ]
     },
     "execution_count": 117,
     "metadata": {},
     "output_type": "execute_result"
    }
   ],
   "source": [
    "pred_final"
   ]
  },
  {
   "cell_type": "markdown",
   "id": "dd255dae",
   "metadata": {},
   "source": [
    "#### Confusion matrix"
   ]
  },
  {
   "cell_type": "code",
   "execution_count": 118,
   "id": "c8beef38",
   "metadata": {},
   "outputs": [
    {
     "data": {
      "text/plain": [
       "array([[4269,  179],\n",
       "       [ 354, 2360]], dtype=int64)"
      ]
     },
     "execution_count": 118,
     "metadata": {},
     "output_type": "execute_result"
    }
   ],
   "source": [
    "confusion_mat = confusion_matrix(pred_final.Actual_Converted, pred_final.Pred_Converted)\n",
    "confusion_mat"
   ]
  },
  {
   "cell_type": "code",
   "execution_count": 119,
   "id": "76f9cf4d",
   "metadata": {},
   "outputs": [],
   "source": [
    "TP,TN,FP,FN = confusion_mat[1,1],confusion_mat[0,0],confusion_mat[0,1],confusion_mat[1,0]"
   ]
  },
  {
   "cell_type": "code",
   "execution_count": 120,
   "id": "e17148da",
   "metadata": {},
   "outputs": [
    {
     "name": "stdout",
     "output_type": "stream",
     "text": [
      "Sensitivity:  0.8695652173913043\n",
      "Specificity:  0.9597571942446043\n"
     ]
    }
   ],
   "source": [
    "## Sensitivity of the logistic regression model\n",
    "\n",
    "sensitivity = TP/(TP+FN)\n",
    "print('Sensitivity: ',sensitivity)\n",
    "\n",
    "## Specificity of the logistic regression model\n",
    "\n",
    "specificity = TN/(TN+FP)\n",
    "print('Specificity: ',specificity)"
   ]
  },
  {
   "cell_type": "markdown",
   "id": "73141f1b",
   "metadata": {},
   "source": [
    "#### Accuracy score on training data"
   ]
  },
  {
   "cell_type": "code",
   "execution_count": 121,
   "id": "c43323b3",
   "metadata": {},
   "outputs": [
    {
     "data": {
      "text/plain": [
       "0.9255794470818207"
      ]
     },
     "execution_count": 121,
     "metadata": {},
     "output_type": "execute_result"
    }
   ],
   "source": [
    "accuracy_score(pred_final.Actual_Converted, pred_final.Pred_Converted)"
   ]
  },
  {
   "cell_type": "markdown",
   "id": "d55f0c43",
   "metadata": {},
   "source": [
    "#### ROC curve "
   ]
  },
  {
   "cell_type": "code",
   "execution_count": 122,
   "id": "27b56f92",
   "metadata": {},
   "outputs": [
    {
     "data": {
      "image/png": "[encoded data removed]",
      "text/plain": [
       "<Figure size 432x288 with 1 Axes>"
      ]
     },
     "metadata": {
      "needs_background": "light"
     },
     "output_type": "display_data"
    }
   ],
   "source": [
    "plot_roc_curve(log_reg_final, xtrain[final_cols], ytrain)\n",
    "plt.show()"
   ]
  },
  {
   "cell_type": "markdown",
   "id": "00183c37",
   "metadata": {},
   "source": [
    "#### Decide Cut-off "
   ]
  },
  {
   "cell_type": "code",
   "execution_count": 123,
   "id": "5ae382c0",
   "metadata": {},
   "outputs": [],
   "source": [
    "df_for_cutoff = pd.DataFrame( columns = ['prob','accuracy','sensi','speci'])\n",
    "\n",
    "numbers = [float(x)/10 for x in range(10)]\n",
    "for i in numbers:\n",
    "    pred_final['Pred_Converted'] = pred_final.Pred_Converted_Prob.map(lambda x: 1 if x > i else 0)\n",
    "    cm = confusion_matrix(pred_final.Actual_Converted, pred_final.Pred_Converted)\n",
    "    speci = cm[0,0]/(cm[0,0]+cm[0,1])\n",
    "    sensi = cm[1,1]/(cm[1,0]+cm[1,1])\n",
    "    df_for_cutoff.loc[i] =[i,accuracy_score(pred_final.Actual_Converted, pred_final.Pred_Converted),sensi,speci]"
   ]
  },
  {
   "cell_type": "code",
   "execution_count": 124,
   "id": "ca09eea2",
   "metadata": {},
   "outputs": [
    {
     "data": {
      "text/html": [
       "<div>\n",
       "<style scoped>\n",
       "    .dataframe tbody tr th:only-of-type {\n",
       "        vertical-align: middle;\n",
       "    }\n",
       "\n",
       "    .dataframe tbody tr th {\n",
       "        vertical-align: top;\n",
       "    }\n",
       "\n",
       "    .dataframe thead th {\n",
       "        text-align: right;\n",
       "    }\n",
       "</style>\n",
       "<table border=\"1\" class=\"dataframe\">\n",
       "  <thead>\n",
       "    <tr style=\"text-align: right;\">\n",
       "      <th></th>\n",
       "      <th>prob</th>\n",
       "      <th>accuracy</th>\n",
       "      <th>sensi</th>\n",
       "      <th>speci</th>\n",
       "    </tr>\n",
       "  </thead>\n",
       "  <tbody>\n",
       "    <tr>\n",
       "      <th>0.0</th>\n",
       "      <td>0.0</td>\n",
       "      <td>0.378944</td>\n",
       "      <td>1.000000</td>\n",
       "      <td>0.000000</td>\n",
       "    </tr>\n",
       "    <tr>\n",
       "      <th>0.1</th>\n",
       "      <td>0.1</td>\n",
       "      <td>0.785814</td>\n",
       "      <td>0.973102</td>\n",
       "      <td>0.671538</td>\n",
       "    </tr>\n",
       "    <tr>\n",
       "      <th>0.2</th>\n",
       "      <td>0.2</td>\n",
       "      <td>0.901145</td>\n",
       "      <td>0.926308</td>\n",
       "      <td>0.885791</td>\n",
       "    </tr>\n",
       "    <tr>\n",
       "      <th>0.3</th>\n",
       "      <td>0.3</td>\n",
       "      <td>0.913991</td>\n",
       "      <td>0.908990</td>\n",
       "      <td>0.917041</td>\n",
       "    </tr>\n",
       "    <tr>\n",
       "      <th>0.4</th>\n",
       "      <td>0.4</td>\n",
       "      <td>0.918738</td>\n",
       "      <td>0.889831</td>\n",
       "      <td>0.936376</td>\n",
       "    </tr>\n",
       "    <tr>\n",
       "      <th>0.5</th>\n",
       "      <td>0.5</td>\n",
       "      <td>0.925579</td>\n",
       "      <td>0.869565</td>\n",
       "      <td>0.959757</td>\n",
       "    </tr>\n",
       "    <tr>\n",
       "      <th>0.6</th>\n",
       "      <td>0.6</td>\n",
       "      <td>0.914828</td>\n",
       "      <td>0.815402</td>\n",
       "      <td>0.975495</td>\n",
       "    </tr>\n",
       "    <tr>\n",
       "      <th>0.7</th>\n",
       "      <td>0.7</td>\n",
       "      <td>0.910221</td>\n",
       "      <td>0.792557</td>\n",
       "      <td>0.982014</td>\n",
       "    </tr>\n",
       "    <tr>\n",
       "      <th>0.8</th>\n",
       "      <td>0.8</td>\n",
       "      <td>0.899190</td>\n",
       "      <td>0.754606</td>\n",
       "      <td>0.987410</td>\n",
       "    </tr>\n",
       "    <tr>\n",
       "      <th>0.9</th>\n",
       "      <td>0.9</td>\n",
       "      <td>0.877827</td>\n",
       "      <td>0.691231</td>\n",
       "      <td>0.991682</td>\n",
       "    </tr>\n",
       "  </tbody>\n",
       "</table>\n",
       "</div>"
      ],
      "text/plain": [
       "     prob  accuracy     sensi     speci\n",
       "0.0   0.0  0.378944  1.000000  0.000000\n",
       "0.1   0.1  0.785814  0.973102  0.671538\n",
       "0.2   0.2  0.901145  0.926308  0.885791\n",
       "0.3   0.3  0.913991  0.908990  0.917041\n",
       "0.4   0.4  0.918738  0.889831  0.936376\n",
       "0.5   0.5  0.925579  0.869565  0.959757\n",
       "0.6   0.6  0.914828  0.815402  0.975495\n",
       "0.7   0.7  0.910221  0.792557  0.982014\n",
       "0.8   0.8  0.899190  0.754606  0.987410\n",
       "0.9   0.9  0.877827  0.691231  0.991682"
      ]
     },
     "execution_count": 124,
     "metadata": {},
     "output_type": "execute_result"
    }
   ],
   "source": [
    "df_for_cutoff"
   ]
  },
  {
   "cell_type": "code",
   "execution_count": 125,
   "id": "e448f9d4",
   "metadata": {},
   "outputs": [
    {
     "data": {
      "image/png": "[encoded data removed]",
      "text/plain": [
       "<Figure size 432x288 with 1 Axes>"
      ]
     },
     "metadata": {
      "needs_background": "light"
     },
     "output_type": "display_data"
    }
   ],
   "source": [
    "df_for_cutoff.plot.line(x='prob', y=['accuracy','sensi','speci'])\n",
    "plt.show()"
   ]
  },
  {
   "cell_type": "markdown",
   "id": "afc369fa",
   "metadata": {},
   "source": [
    "As seen above, 0.3 can be considered as a good cut-off as **'accuracy', 'sensitivity', 'specificity'** have optimum values with **0.9141, 0.9011, 0.9170** respectively"
   ]
  },
  {
   "cell_type": "code",
   "execution_count": 126,
   "id": "45c2a8ed",
   "metadata": {},
   "outputs": [
    {
     "data": {
      "text/html": [
       "<div>\n",
       "<style scoped>\n",
       "    .dataframe tbody tr th:only-of-type {\n",
       "        vertical-align: middle;\n",
       "    }\n",
       "\n",
       "    .dataframe tbody tr th {\n",
       "        vertical-align: top;\n",
       "    }\n",
       "\n",
       "    .dataframe thead th {\n",
       "        text-align: right;\n",
       "    }\n",
       "</style>\n",
       "<table border=\"1\" class=\"dataframe\">\n",
       "  <thead>\n",
       "    <tr style=\"text-align: right;\">\n",
       "      <th></th>\n",
       "      <th>Actual_Converted</th>\n",
       "      <th>Pred_Converted_Prob</th>\n",
       "      <th>Pred_Converted</th>\n",
       "      <th>Lead Score</th>\n",
       "    </tr>\n",
       "  </thead>\n",
       "  <tbody>\n",
       "    <tr>\n",
       "      <th>8609</th>\n",
       "      <td>0</td>\n",
       "      <td>0.039770</td>\n",
       "      <td>0</td>\n",
       "      <td>3.98</td>\n",
       "    </tr>\n",
       "    <tr>\n",
       "      <th>4355</th>\n",
       "      <td>0</td>\n",
       "      <td>0.150881</td>\n",
       "      <td>0</td>\n",
       "      <td>15.09</td>\n",
       "    </tr>\n",
       "    <tr>\n",
       "      <th>7570</th>\n",
       "      <td>1</td>\n",
       "      <td>0.989315</td>\n",
       "      <td>1</td>\n",
       "      <td>98.93</td>\n",
       "    </tr>\n",
       "    <tr>\n",
       "      <th>570</th>\n",
       "      <td>0</td>\n",
       "      <td>0.099150</td>\n",
       "      <td>0</td>\n",
       "      <td>9.92</td>\n",
       "    </tr>\n",
       "    <tr>\n",
       "      <th>447</th>\n",
       "      <td>1</td>\n",
       "      <td>0.907983</td>\n",
       "      <td>1</td>\n",
       "      <td>90.80</td>\n",
       "    </tr>\n",
       "    <tr>\n",
       "      <th>...</th>\n",
       "      <td>...</td>\n",
       "      <td>...</td>\n",
       "      <td>...</td>\n",
       "      <td>...</td>\n",
       "    </tr>\n",
       "    <tr>\n",
       "      <th>6112</th>\n",
       "      <td>1</td>\n",
       "      <td>0.966819</td>\n",
       "      <td>1</td>\n",
       "      <td>96.68</td>\n",
       "    </tr>\n",
       "    <tr>\n",
       "      <th>4057</th>\n",
       "      <td>1</td>\n",
       "      <td>0.931295</td>\n",
       "      <td>1</td>\n",
       "      <td>93.13</td>\n",
       "    </tr>\n",
       "    <tr>\n",
       "      <th>7301</th>\n",
       "      <td>0</td>\n",
       "      <td>0.026495</td>\n",
       "      <td>0</td>\n",
       "      <td>2.65</td>\n",
       "    </tr>\n",
       "    <tr>\n",
       "      <th>7635</th>\n",
       "      <td>0</td>\n",
       "      <td>0.003024</td>\n",
       "      <td>0</td>\n",
       "      <td>0.30</td>\n",
       "    </tr>\n",
       "    <tr>\n",
       "      <th>4516</th>\n",
       "      <td>0</td>\n",
       "      <td>0.125743</td>\n",
       "      <td>0</td>\n",
       "      <td>12.57</td>\n",
       "    </tr>\n",
       "  </tbody>\n",
       "</table>\n",
       "<p>7162 rows × 4 columns</p>\n",
       "</div>"
      ],
      "text/plain": [
       "      Actual_Converted  Pred_Converted_Prob  Pred_Converted  Lead Score\n",
       "8609                 0             0.039770               0        3.98\n",
       "4355                 0             0.150881               0       15.09\n",
       "7570                 1             0.989315               1       98.93\n",
       "570                  0             0.099150               0        9.92\n",
       "447                  1             0.907983               1       90.80\n",
       "...                ...                  ...             ...         ...\n",
       "6112                 1             0.966819               1       96.68\n",
       "4057                 1             0.931295               1       93.13\n",
       "7301                 0             0.026495               0        2.65\n",
       "7635                 0             0.003024               0        0.30\n",
       "4516                 0             0.125743               0       12.57\n",
       "\n",
       "[7162 rows x 4 columns]"
      ]
     },
     "execution_count": 126,
     "metadata": {},
     "output_type": "execute_result"
    }
   ],
   "source": [
    "pred_final['Pred_Converted'] = pred_final.Pred_Converted_Prob.map(lambda x: 1 if x > 0.3 else 0)\n",
    "pred_final['Lead Score'] = pred_final.Pred_Converted_Prob.map(lambda x: round(x*100, 2))\n",
    "pred_final"
   ]
  },
  {
   "cell_type": "markdown",
   "id": "3a792832",
   "metadata": {},
   "source": [
    "### Scaling and prediction on test data "
   ]
  },
  {
   "cell_type": "code",
   "execution_count": 127,
   "id": "4f2947b6",
   "metadata": {},
   "outputs": [],
   "source": [
    "numerical_cols = xtest.select_dtypes(include=['float64', 'int64']).columns\n",
    "xtest[numerical_cols] = scaler.transform(xtest[numerical_cols])"
   ]
  },
  {
   "cell_type": "code",
   "execution_count": 128,
   "id": "0b90edaa",
   "metadata": {},
   "outputs": [
    {
     "data": {
      "text/html": [
       "<div>\n",
       "<style scoped>\n",
       "    .dataframe tbody tr th:only-of-type {\n",
       "        vertical-align: middle;\n",
       "    }\n",
       "\n",
       "    .dataframe tbody tr th {\n",
       "        vertical-align: top;\n",
       "    }\n",
       "\n",
       "    .dataframe thead th {\n",
       "        text-align: right;\n",
       "    }\n",
       "</style>\n",
       "<table border=\"1\" class=\"dataframe\">\n",
       "  <thead>\n",
       "    <tr style=\"text-align: right;\">\n",
       "      <th></th>\n",
       "      <th>Total Time Spent on Website</th>\n",
       "      <th>Page Views Per Visit</th>\n",
       "      <th>Last Activity_SMS Sent</th>\n",
       "      <th>Last Notable Activity_Modified</th>\n",
       "      <th>Lead Source_Welingak Website</th>\n",
       "      <th>Tags_Already a student</th>\n",
       "      <th>Tags_Closed by Horizzon</th>\n",
       "      <th>Tags_Interested in other courses</th>\n",
       "      <th>Tags_Lost to EINS</th>\n",
       "      <th>Tags_Ringing</th>\n",
       "      <th>Tags_Will revert after reading the email</th>\n",
       "      <th>Tags_switched off</th>\n",
       "    </tr>\n",
       "  </thead>\n",
       "  <tbody>\n",
       "    <tr>\n",
       "      <th>4916</th>\n",
       "      <td>0.000000</td>\n",
       "      <td>0.000000</td>\n",
       "      <td>0</td>\n",
       "      <td>1</td>\n",
       "      <td>0</td>\n",
       "      <td>0</td>\n",
       "      <td>0</td>\n",
       "      <td>0</td>\n",
       "      <td>0</td>\n",
       "      <td>0</td>\n",
       "      <td>0</td>\n",
       "      <td>0</td>\n",
       "    </tr>\n",
       "    <tr>\n",
       "      <th>1890</th>\n",
       "      <td>0.074384</td>\n",
       "      <td>0.222222</td>\n",
       "      <td>0</td>\n",
       "      <td>0</td>\n",
       "      <td>0</td>\n",
       "      <td>0</td>\n",
       "      <td>0</td>\n",
       "      <td>0</td>\n",
       "      <td>0</td>\n",
       "      <td>0</td>\n",
       "      <td>0</td>\n",
       "      <td>0</td>\n",
       "    </tr>\n",
       "    <tr>\n",
       "      <th>6941</th>\n",
       "      <td>0.031690</td>\n",
       "      <td>0.111111</td>\n",
       "      <td>0</td>\n",
       "      <td>0</td>\n",
       "      <td>0</td>\n",
       "      <td>0</td>\n",
       "      <td>0</td>\n",
       "      <td>1</td>\n",
       "      <td>0</td>\n",
       "      <td>0</td>\n",
       "      <td>0</td>\n",
       "      <td>0</td>\n",
       "    </tr>\n",
       "    <tr>\n",
       "      <th>7184</th>\n",
       "      <td>0.054577</td>\n",
       "      <td>0.277778</td>\n",
       "      <td>0</td>\n",
       "      <td>1</td>\n",
       "      <td>0</td>\n",
       "      <td>1</td>\n",
       "      <td>0</td>\n",
       "      <td>0</td>\n",
       "      <td>0</td>\n",
       "      <td>0</td>\n",
       "      <td>0</td>\n",
       "      <td>0</td>\n",
       "    </tr>\n",
       "    <tr>\n",
       "      <th>9043</th>\n",
       "      <td>0.082306</td>\n",
       "      <td>0.222222</td>\n",
       "      <td>1</td>\n",
       "      <td>0</td>\n",
       "      <td>0</td>\n",
       "      <td>0</td>\n",
       "      <td>0</td>\n",
       "      <td>0</td>\n",
       "      <td>0</td>\n",
       "      <td>0</td>\n",
       "      <td>1</td>\n",
       "      <td>0</td>\n",
       "    </tr>\n",
       "  </tbody>\n",
       "</table>\n",
       "</div>"
      ],
      "text/plain": [
       "      Total Time Spent on Website  Page Views Per Visit  \\\n",
       "4916                     0.000000              0.000000   \n",
       "1890                     0.074384              0.222222   \n",
       "6941                     0.031690              0.111111   \n",
       "7184                     0.054577              0.277778   \n",
       "9043                     0.082306              0.222222   \n",
       "\n",
       "      Last Activity_SMS Sent  Last Notable Activity_Modified  \\\n",
       "4916                       0                               1   \n",
       "1890                       0                               0   \n",
       "6941                       0                               0   \n",
       "7184                       0                               1   \n",
       "9043                       1                               0   \n",
       "\n",
       "      Lead Source_Welingak Website  Tags_Already a student  \\\n",
       "4916                             0                       0   \n",
       "1890                             0                       0   \n",
       "6941                             0                       0   \n",
       "7184                             0                       1   \n",
       "9043                             0                       0   \n",
       "\n",
       "      Tags_Closed by Horizzon  Tags_Interested in other courses  \\\n",
       "4916                        0                                 0   \n",
       "1890                        0                                 0   \n",
       "6941                        0                                 1   \n",
       "7184                        0                                 0   \n",
       "9043                        0                                 0   \n",
       "\n",
       "      Tags_Lost to EINS  Tags_Ringing  \\\n",
       "4916                  0             0   \n",
       "1890                  0             0   \n",
       "6941                  0             0   \n",
       "7184                  0             0   \n",
       "9043                  0             0   \n",
       "\n",
       "      Tags_Will revert after reading the email  Tags_switched off  \n",
       "4916                                         0                  0  \n",
       "1890                                         0                  0  \n",
       "6941                                         0                  0  \n",
       "7184                                         0                  0  \n",
       "9043                                         1                  0  "
      ]
     },
     "execution_count": 128,
     "metadata": {},
     "output_type": "execute_result"
    }
   ],
   "source": [
    "xtest = xtest[final_cols]\n",
    "xtest.head()"
   ]
  },
  {
   "cell_type": "code",
   "execution_count": 129,
   "id": "e4904d34",
   "metadata": {},
   "outputs": [],
   "source": [
    "ytest_pred = log_reg_final.predict_proba(xtest)"
   ]
  },
  {
   "cell_type": "code",
   "execution_count": 130,
   "id": "871f3f60",
   "metadata": {},
   "outputs": [],
   "source": [
    "pred_test_final = pd.DataFrame({'Actual_Converted':ytest,'Pred_Converted_Prob':ytest_pred[:,1]})"
   ]
  },
  {
   "cell_type": "code",
   "execution_count": 131,
   "id": "1042170c",
   "metadata": {},
   "outputs": [],
   "source": [
    "pred_test_final['Pred_Converted'] = pred_test_final.Pred_Converted_Prob.map(lambda x: 1 if x > 0.5 else 0)"
   ]
  },
  {
   "cell_type": "code",
   "execution_count": 132,
   "id": "02ea79aa",
   "metadata": {},
   "outputs": [
    {
     "data": {
      "text/html": [
       "<div>\n",
       "<style scoped>\n",
       "    .dataframe tbody tr th:only-of-type {\n",
       "        vertical-align: middle;\n",
       "    }\n",
       "\n",
       "    .dataframe tbody tr th {\n",
       "        vertical-align: top;\n",
       "    }\n",
       "\n",
       "    .dataframe thead th {\n",
       "        text-align: right;\n",
       "    }\n",
       "</style>\n",
       "<table border=\"1\" class=\"dataframe\">\n",
       "  <thead>\n",
       "    <tr style=\"text-align: right;\">\n",
       "      <th></th>\n",
       "      <th>Actual_Converted</th>\n",
       "      <th>Pred_Converted_Prob</th>\n",
       "      <th>Pred_Converted</th>\n",
       "    </tr>\n",
       "  </thead>\n",
       "  <tbody>\n",
       "    <tr>\n",
       "      <th>4916</th>\n",
       "      <td>0</td>\n",
       "      <td>0.035694</td>\n",
       "      <td>0</td>\n",
       "    </tr>\n",
       "    <tr>\n",
       "      <th>1890</th>\n",
       "      <td>0</td>\n",
       "      <td>0.128863</td>\n",
       "      <td>0</td>\n",
       "    </tr>\n",
       "    <tr>\n",
       "      <th>6941</th>\n",
       "      <td>0</td>\n",
       "      <td>0.029696</td>\n",
       "      <td>0</td>\n",
       "    </tr>\n",
       "    <tr>\n",
       "      <th>7184</th>\n",
       "      <td>0</td>\n",
       "      <td>0.001551</td>\n",
       "      <td>0</td>\n",
       "    </tr>\n",
       "    <tr>\n",
       "      <th>9043</th>\n",
       "      <td>1</td>\n",
       "      <td>0.990898</td>\n",
       "      <td>1</td>\n",
       "    </tr>\n",
       "  </tbody>\n",
       "</table>\n",
       "</div>"
      ],
      "text/plain": [
       "      Actual_Converted  Pred_Converted_Prob  Pred_Converted\n",
       "4916                 0             0.035694               0\n",
       "1890                 0             0.128863               0\n",
       "6941                 0             0.029696               0\n",
       "7184                 0             0.001551               0\n",
       "9043                 1             0.990898               1"
      ]
     },
     "execution_count": 132,
     "metadata": {},
     "output_type": "execute_result"
    }
   ],
   "source": [
    "pred_test_final.head()"
   ]
  },
  {
   "cell_type": "markdown",
   "id": "77ea0954",
   "metadata": {},
   "source": [
    "#### Accuracy and confusion matrix on test data"
   ]
  },
  {
   "cell_type": "code",
   "execution_count": 133,
   "id": "99cfec62",
   "metadata": {},
   "outputs": [
    {
     "data": {
      "text/plain": [
       "0.9240647682858738"
      ]
     },
     "execution_count": 133,
     "metadata": {},
     "output_type": "execute_result"
    }
   ],
   "source": [
    "accuracy_score(pred_test_final.Actual_Converted, pred_test_final.Pred_Converted)"
   ]
  },
  {
   "cell_type": "code",
   "execution_count": 134,
   "id": "7f0cf3ed",
   "metadata": {},
   "outputs": [
    {
     "data": {
      "text/plain": [
       "array([[1068,   42],\n",
       "       [  94,  587]], dtype=int64)"
      ]
     },
     "execution_count": 134,
     "metadata": {},
     "output_type": "execute_result"
    }
   ],
   "source": [
    "confusion_mat_test = confusion_matrix(pred_test_final.Actual_Converted, pred_test_final.Pred_Converted)\n",
    "confusion_mat_test"
   ]
  },
  {
   "cell_type": "code",
   "execution_count": 135,
   "id": "b30368ec",
   "metadata": {},
   "outputs": [],
   "source": [
    "TP,TN,FP,FN = confusion_mat_test[1,1],confusion_mat_test[0,0],confusion_mat_test[0,1],confusion_mat_test[1,0]"
   ]
  },
  {
   "cell_type": "code",
   "execution_count": 136,
   "id": "c4db1b06",
   "metadata": {},
   "outputs": [
    {
     "name": "stdout",
     "output_type": "stream",
     "text": [
      "Sensitivity:  0.8619676945668135\n",
      "Specificity:  0.9621621621621622\n"
     ]
    }
   ],
   "source": [
    "## Sensitivity of the logistic regression model\n",
    "\n",
    "sensitivity = TP/(TP+FN)\n",
    "print('Sensitivity: ',sensitivity)\n",
    "\n",
    "## Specificity of the logistic regression model\n",
    "\n",
    "specificity = TN/(TN+FP)\n",
    "print('Specificity: ',specificity)"
   ]
  },
  {
   "cell_type": "markdown",
   "id": "434aa90f",
   "metadata": {},
   "source": [
    "**'accuracy', 'sensitivity', 'specificity'** on test data are **0.9241, 0.8621, 0.9621** respectively"
   ]
  },
  {
   "cell_type": "markdown",
   "id": "3a70d8a3",
   "metadata": {},
   "source": [
    "### Final model results"
   ]
  },
  {
   "cell_type": "markdown",
   "id": "047c5efb",
   "metadata": {},
   "source": [
    "* **Train Data** - **'accuracy', 'sensitivity', 'specificity'** - **0.9141, 0.9011, 0.9170** \n",
    "* **Test Data** - **'accuracy', 'sensitivity', 'specificity'** - **0.9241, 0.8621, 0.9621**\n",
    "\n",
    "The model is giving promising results as shown by above evaluation metrics Hence, this should help make identify hot lead and significantly impact the business."
   ]
  }
 ],
 "metadata": {
  "kernelspec": {
   "display_name": "Python 3 (ipykernel)",
   "language": "python",
   "name": "python3"
  },
  "language_info": {
   "codemirror_mode": {
    "name": "ipython",
    "version": 3
   },
   "file_extension": ".py",
   "mimetype": "text/x-python",
   "name": "python",
   "nbconvert_exporter": "python",
   "pygments_lexer": "ipython3",
   "version": "3.9.12"
  }
 },
 "nbformat": 4,
 "nbformat_minor": 5
}
